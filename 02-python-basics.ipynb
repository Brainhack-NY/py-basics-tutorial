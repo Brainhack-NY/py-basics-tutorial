{
 "cells": [
  {
   "cell_type": "markdown",
   "metadata": {},
   "source": [
    "Quick Coffee Break!\n",
    "---\n",
    "<img src=\"https://www.publicdomainpictures.net/pictures/150000/velka/coffee-break-1454539196eJw.jpg\">"
   ]
  },
  {
   "cell_type": "markdown",
   "metadata": {},
   "source": [
    "# Python Basics\n",
    "---\n",
    "This notebook is meant get you started on using Python for wrangling data, with an emphasis on arrays. `Numpy` and `Pandas` are Python's numerical computing libraries that are especially useful for dealing with large datasets, like in neuroimaging. At the end of this tutorial, you should have a general sense of how Python deals with data and what arrays & dictionaries are good for, though you'll probably need to put in some time working with them to really get comfortable with using them."
   ]
  },
  {
   "cell_type": "markdown",
   "metadata": {},
   "source": [
    "## Why Python?\n",
    "\n",
    "### Easy to learn\n",
    "Programming is hard, so, in an absolute sense, no programming language is easy to learn unless you already have prior programming experience. But, comparatively speaking, Python's high-level nature (see next section), readable syntax, and use of semantic whitespace make the language easier to pick up than many others. For example, below is a (deliberately uncommented) definition of a simple Python function that converts a string of English words to (crummy) Pig Latin:"
   ]
  },
  {
   "cell_type": "code",
   "execution_count": 1,
   "metadata": {},
   "outputs": [],
   "source": [
    "def pig_latin(text):\n",
    "    ''' Takes in a sequence of words and converts it to (imperfect) pig latin. '''\n",
    "    \n",
    "    word_list = text.split(' ')\n",
    "    output_list = []\n",
    "\n",
    "    for word in word_list:\n",
    "\n",
    "        word = word.lower()\n",
    "\n",
    "        if word.isalpha():\n",
    "            first_char = word[0]\n",
    "        \n",
    "            if first_char in 'aeiou':\n",
    "                word = word + 'ay'\n",
    "            else:\n",
    "                word = word[1:] + first_char + 'yay'\n",
    "\n",
    "            output_list.append(word)\n",
    "    \n",
    "    pygged = ' '.join(output_list)\n",
    "    return pygged"
   ]
  },
  {
   "cell_type": "markdown",
   "metadata": {},
   "source": [
    "The above function won't actually produce completely valid pig latin (assuming that there's such a thing as \"valid pig latin\"), but that's okay. It does something passable:"
   ]
  },
  {
   "cell_type": "code",
   "execution_count": 2,
   "metadata": {},
   "outputs": [
    {
     "name": "stdout",
     "output_type": "stream",
     "text": [
      "etlyay usay eesyay ifay histyay orkswyay\n"
     ]
    }
   ],
   "source": [
    "test1 = pig_latin(\"let us see if this works\")\n",
    "\n",
    "print(test1)"
   ]
  },
  {
   "cell_type": "markdown",
   "metadata": {},
   "source": [
    "Pig Latin aside, the code is fairly easy to read (\"easy\" is relative, of course; I'm not suggesting that a novice programmer with no Python experience should be able to scan the code and immediately understand what's going on at every step!). There are several reasons for this. First, the code is written at a high level of abstraction (more on this below), so that each line of code maps onto a fairly intuitive operation like \"take the first character of this word\", and not onto a less intuitive lower-level operation like \"reserve 1 byte of memory for a character I'm going to hand you in a moment\". Second, the control structures (i.e., for-loops, if-then conditionals, etc.) use words like `in`, `and`, and `not`, rather than mysterious-looking operators. Third, Python's strict control of indentation (more on this later) imposes a level of discipline that keeps code readable while also preventing certain very common kinds of errors. And fourth, the Python community's strong emphasis on adhering to style conventions and writing \"Pythonic\" code means that Python programmers, more so than those working in many other languages, tend to use consistent naming conventions, line lengths, programming idioms, and many other similar features that collectively make it easier to read someone else's code (though admittedly this is more a feature of the community rather than the language itself)."
   ]
  },
  {
   "cell_type": "markdown",
   "metadata": {
    "slideshow": {
     "slide_type": "subslide"
    }
   },
   "source": [
    "### High-level\n",
    "Python features a high level of abstraction. Many operations that must be invoked explicitly in lower-level languages (e.g., C or C++) are performed implicitly in Python. For example, you almost never have to explicitly allocate memory or collect garbage in Python—it's all done for you. Put simply, Python lets you write code faster than in many other languages.\n",
    "\n",
    "### Dynamic\n",
    "Python code is interpreted at run-time: there's no compilation process (well, this isn't entirely true, but close enough), and code is read line-by-line when executed. The upside of this is it eliminates a common choke-point in development (i.e., waiting for code to compile), and facilitates very fast iteration. It also means variables can be dynamically typed (more on that below). The downside is that, as with other dynamic languages, Python is often considerably slower than compiled languages—at least when performing operations that can't be easily optimized and/or bound to pre-existing code written in a compiled language. (You wouldn't, for example, want to write a 3d game engine in Python.)\n",
    "\n",
    "### General-purpose\n",
    "In contrast to many other dynamic programming languages designed to fill specific niches, Python is well suited for a very wide range of applications. It features a comprehensive standard library (i.e., the functionality available out-of-the-box when you install Python) and an enormous ecosystem of third-party packages. It also supports multiple programming paradigms to varying extents (object-oriented, functional, etc.). Consequently, Python is used in many areas of software development (data science, back-end web development, DevOps, scripting engines, etc.)."
   ]
  },
  {
   "cell_type": "markdown",
   "metadata": {
    "slideshow": {
     "slide_type": "slide"
    }
   },
   "source": [
    "## Variables and basic types\n",
    "Now that we've done a bit of evangelizing for Python (we'll do some more at the end!), let's look at the actual mechanics of the language. (If you have a fair bit of experience in other programming languages, you'll probably find the next few sections very basic, and might want to skip ahead.)\n",
    "\n",
    "### Declaring variables\n",
    "In Python, we declare a variable by assigning it a value with the `=` sign:"
   ]
  },
  {
   "cell_type": "code",
   "execution_count": 3,
   "metadata": {},
   "outputs": [],
   "source": [
    "my_favorite_number = 3"
   ]
  },
  {
   "cell_type": "markdown",
   "metadata": {},
   "source": [
    "Notice that when we initialized the above variable and assigned it a value (`3`), we didn't have to declare its *type* anywhere. In a statically typed language like C++, we'd have to explicitly indicate that the variable holds an integer (e.g., `int my_favorite_number = 3`). In Python, we just assign the value to the variable.\n",
    "\n",
    "This is known as *[duck typing](https://en.wikipedia.org/wiki/Duck_typing)*, in reference to the idea that in languages like Python, you don't need to know ahead of time whether something is or isn't a duck: when you see an object that looks like a duck and behaves like a duck, you just assume it's a duck when you interact with. If something goes wrong, and your interaction fails, then you know the object isn't a duck."
   ]
  },
  {
   "cell_type": "markdown",
   "metadata": {},
   "source": [
    "### Printing variables\n",
    "We can examine the contents of a variable at any time using the built-in `print()` function:"
   ]
  },
  {
   "cell_type": "code",
   "execution_count": 4,
   "metadata": {},
   "outputs": [
    {
     "name": "stdout",
     "output_type": "stream",
     "text": [
      "3\n"
     ]
    }
   ],
   "source": [
    "print(my_favorite_number)"
   ]
  },
  {
   "cell_type": "markdown",
   "metadata": {},
   "source": [
    "If we're working in an interactive python shell (or an environment wrapped around one, like a Jupyter notebook), we may not even need to call `print()`, as we'll automatically get the output of the last line evaluated by the Python interpreter:"
   ]
  },
  {
   "cell_type": "code",
   "execution_count": 5,
   "metadata": {},
   "outputs": [
    {
     "data": {
      "text/plain": [
       "3"
      ]
     },
     "execution_count": 5,
     "metadata": {},
     "output_type": "execute_result"
    }
   ],
   "source": [
    "# this line won't be printed, because it isn't the last line in the notebook cell to be evaluated\n",
    "\"this line won't be printed\"\n",
    "\n",
    "# but this one will\n",
    "my_favorite_number"
   ]
  },
  {
   "cell_type": "markdown",
   "metadata": {},
   "source": [
    "### Built-in types"
   ]
  },
  {
   "cell_type": "markdown",
   "metadata": {},
   "source": [
    "If you're coming to Python from another language, you're probably used to working with different types of variables—things like strings, booleans, integers, and so on. Python is no different, and provides us with a large number of [built-in types](https://docs.python.org/3/library/stdtypes.html). Let's take a quick look at some of these. We're assuming a little bit of prior programming experience here, so I won't bother to explain what a string or an integer is; the main thing is to just learn to recognize what different types look like in Python, and how they can be used.\n",
    "\n",
    "#### Integers"
   ]
  },
  {
   "cell_type": "code",
   "execution_count": 6,
   "metadata": {
    "slideshow": {
     "slide_type": "fragment"
    }
   },
   "outputs": [],
   "source": [
    "# assign an integer to a variable\n",
    "age_in_years = 30"
   ]
  },
  {
   "cell_type": "code",
   "execution_count": 7,
   "metadata": {},
   "outputs": [
    {
     "data": {
      "text/plain": [
       "15.0"
      ]
     },
     "execution_count": 7,
     "metadata": {},
     "output_type": "execute_result"
    }
   ],
   "source": [
    "# arithmetic works as you would expect\n",
    "age_in_years / 2"
   ]
  },
  {
   "cell_type": "markdown",
   "metadata": {},
   "source": [
    "#### Floats"
   ]
  },
  {
   "cell_type": "code",
   "execution_count": 8,
   "metadata": {
    "slideshow": {
     "slide_type": "fragment"
    }
   },
   "outputs": [],
   "source": [
    "# A float\n",
    "almost_pi = 3.14"
   ]
  },
  {
   "cell_type": "code",
   "execution_count": 9,
   "metadata": {},
   "outputs": [
    {
     "data": {
      "text/plain": [
       "13.14"
      ]
     },
     "execution_count": 9,
     "metadata": {},
     "output_type": "execute_result"
    }
   ],
   "source": [
    "# arithmetic on floats also works as you'd expect\n",
    "almost_pi + 10"
   ]
  },
  {
   "cell_type": "code",
   "execution_count": 10,
   "metadata": {},
   "outputs": [
    {
     "data": {
      "text/plain": [
       "3"
      ]
     },
     "execution_count": 10,
     "metadata": {},
     "output_type": "execute_result"
    }
   ],
   "source": [
    "# round() is a built-in function that rounds numbers.\n",
    "# notice that it returns an integer and not a float,\n",
    "# even if the input was a float.\n",
    "# how can you tell this at a glance?\n",
    "round(almost_pi)"
   ]
  },
  {
   "cell_type": "markdown",
   "metadata": {},
   "source": [
    "#### Booleans\n",
    "Booleans operate pretty much the same in Python as in other languages; the main thing to recognize is that they can only take on the values `True` or `False`. Not `true` or `false`, not `'true'` or `'false'`; not `1` or `0`."
   ]
  },
  {
   "cell_type": "code",
   "execution_count": 11,
   "metadata": {
    "slideshow": {
     "slide_type": "fragment"
    }
   },
   "outputs": [],
   "source": [
    "enjoying_tutorial = True"
   ]
  },
  {
   "cell_type": "markdown",
   "metadata": {},
   "source": [
    "As you probably know, we can perform logical operations that will evaluate to a boolean:"
   ]
  },
  {
   "cell_type": "code",
   "execution_count": 12,
   "metadata": {},
   "outputs": [
    {
     "data": {
      "text/plain": [
       "True"
      ]
     },
     "execution_count": 12,
     "metadata": {},
     "output_type": "execute_result"
    }
   ],
   "source": [
    "# Is the length of the string 'apple' greater than 2?\n",
    "len('apple') > 2"
   ]
  },
  {
   "cell_type": "code",
   "execution_count": 13,
   "metadata": {},
   "outputs": [
    {
     "data": {
      "text/plain": [
       "False"
      ]
     },
     "execution_count": 13,
     "metadata": {},
     "output_type": "execute_result"
    }
   ],
   "source": [
    "# Is the product of the first two numbers equal to the third?\n",
    "719 * 1.0002 == 2000"
   ]
  },
  {
   "cell_type": "markdown",
   "metadata": {},
   "source": [
    "#### None\n",
    "In addition to the usual suspects, Python also has a type called `None`. `None` is special, and indicates that no value has been assigned to a variable or returned by a function. It's roughly equivalent to many other languages' `null` value."
   ]
  },
  {
   "cell_type": "code",
   "execution_count": 14,
   "metadata": {
    "slideshow": {
     "slide_type": "fragment"
    }
   },
   "outputs": [],
   "source": [
    "name = None"
   ]
  },
  {
   "cell_type": "markdown",
   "metadata": {},
   "source": [
    "Note: `None` is NOT the same thing as `False`!"
   ]
  },
  {
   "cell_type": "code",
   "execution_count": 15,
   "metadata": {},
   "outputs": [
    {
     "data": {
      "text/plain": [
       "False"
      ]
     },
     "execution_count": 15,
     "metadata": {},
     "output_type": "execute_result"
    }
   ],
   "source": [
    "None == False"
   ]
  },
  {
   "cell_type": "markdown",
   "metadata": {},
   "source": [
    "#### Strings\n",
    "Strings come with a lot of useful built-in methods in Python ([see for yourself](https://docs.python.org/3/library/string.html)!). Let's explore just a few..."
   ]
  },
  {
   "cell_type": "code",
   "execution_count": null,
   "metadata": {
    "slideshow": {
     "slide_type": "fragment"
    }
   },
   "outputs": [],
   "source": [
    "# A string\n",
    "country = \"Madagascar\""
   ]
  },
  {
   "cell_type": "code",
   "execution_count": null,
   "metadata": {},
   "outputs": [],
   "source": [
    "# How long is the string?\n",
    "len(country)"
   ]
  },
  {
   "cell_type": "code",
   "execution_count": null,
   "metadata": {},
   "outputs": [],
   "source": [
    "# Convert to lowercase\n",
    "# you can also try lower() or capitalize()\n",
    "country.upper()"
   ]
  },
  {
   "cell_type": "code",
   "execution_count": null,
   "metadata": {},
   "outputs": [],
   "source": [
    "# Count the number of occurrences of the passed substring\n",
    "country.count('a')"
   ]
  },
  {
   "cell_type": "code",
   "execution_count": null,
   "metadata": {},
   "outputs": [],
   "source": [
    "# Replace matching substrings with another value\n",
    "country.replace('car', 'truck')"
   ]
  },
  {
   "cell_type": "markdown",
   "metadata": {
    "slideshow": {
     "slide_type": "subslide"
    }
   },
   "source": [
    "## Collections\n",
    "Most code we're going to want to write in Python will require more than just strings and integers. We're going to need more complex data structures, or *collections*, that can hold other objects (like strings, integers, etc.) and enable us to easily manipulate them in various ways. Python provides built-in support for many common collections, and others can be found in various modules in the standard library (e.g., [collections](https://docs.python.org/3/library/collections.html)).\n",
    "\n",
    "### Lists\n",
    "Lists are the most common collection we'll work with in Python. A list is an ordered, heterogeneous collection of objects.\n",
    "\n",
    "By *ordered* we mean that a list retains a memory of the position each of its elements was inserted in. The order of elements won't change unless we explicitly change it. This allows us to access individual elements in the liset directly, by specifying their *index*.\n",
    "\n",
    "By *heterogeneous*, we mean that a list can contain elements of different types. A list doesn't have to contain all strings or all integers; it can contain a mix of them, as well as all kinds of other types.\n",
    "\n",
    "#### List initialization\n",
    "To create a list, we enclose one or more values between square brackets (`[` and `]`). Elements are separated by commas."
   ]
  },
  {
   "cell_type": "code",
   "execution_count": null,
   "metadata": {
    "slideshow": {
     "slide_type": "fragment"
    }
   },
   "outputs": [],
   "source": [
    "# Notice the different types--lists are heterogeneous!\n",
    "random_stuff = [11, \"apple\", 7.14, \"banana\"]"
   ]
  },
  {
   "cell_type": "markdown",
   "metadata": {},
   "source": [
    "#### List indexing\n",
    "To access the $i^{th}$ element in a list, we enclose the index $i$ in square brackets. Note that Python uses 0-based indexing (i.e., the first element in the sequence has index 0), and not 1 as in some other data-centric languages (MATLAB, R, etc.). See this useful page and its [notes on the 0/1 based indexing war](https://numpy.org/doc/stable/user/numpy-for-matlab-users.html#numpy-for-matlab-users-notes)."
   ]
  },
  {
   "cell_type": "code",
   "execution_count": null,
   "metadata": {
    "slideshow": {
     "slide_type": "fragment"
    }
   },
   "outputs": [],
   "source": [
    "# Returns the second element in the list\n",
    "random_stuff[1]"
   ]
  },
  {
   "cell_type": "markdown",
   "metadata": {},
   "source": [
    "#### List slicing\n",
    "We can access sub-lists containing multiple contiguous elements using the colon (`:`) operator."
   ]
  },
  {
   "cell_type": "code",
   "execution_count": null,
   "metadata": {
    "slideshow": {
     "slide_type": "fragment"
    }
   },
   "outputs": [],
   "source": [
    "# First number indicates the start position;\n",
    "# second indicates the end position. Note that\n",
    "# the start is inclusive and the end is exclusive.\n",
    "# In this example, we get back the 2nd and 3rd\n",
    "# elements, but not the 4th.\n",
    "random_stuff[1:3]"
   ]
  },
  {
   "cell_type": "markdown",
   "metadata": {},
   "source": [
    "#### Assigning values to list elements\n",
    "To overwrite an element at a given index, we just assign a value to it:"
   ]
  },
  {
   "cell_type": "code",
   "execution_count": null,
   "metadata": {},
   "outputs": [],
   "source": [
    "print(\"First element before re-assignment:\", random_stuff[0])\n",
    "\n",
    "random_stuff[0] = 14\n",
    "\n",
    "print(\"First element after re-assignment:\", random_stuff[0])"
   ]
  },
  {
   "cell_type": "markdown",
   "metadata": {},
   "source": [
    "#### Appending to a list\n",
    "We can add a single element to a list via the `.append()` method."
   ]
  },
  {
   "cell_type": "code",
   "execution_count": null,
   "metadata": {
    "slideshow": {
     "slide_type": "fragment"
    }
   },
   "outputs": [],
   "source": [
    "# Append an element\n",
    "random_stuff.append(88)\n",
    "\n",
    "# Now our list has changed\n",
    "random_stuff"
   ]
  },
  {
   "cell_type": "markdown",
   "metadata": {
    "slideshow": {
     "slide_type": "subslide"
    }
   },
   "source": [
    "### Dictionaries (dict)\n",
    "Dictionaries are another extremely commonly used data structure in Python. A dictionary (or dict) is a mapping from keys to values; we can think of it as a set of key:value pairs, where the keys have to be unique. Many other languages have structures analogous to Python's dictionaries, though they're usually called something like *associative arrays* or *hashtables*.\n",
    "\n",
    "#### Dictionary initialization\n",
    "Dictionary initialization looks like this:"
   ]
  },
  {
   "cell_type": "code",
   "execution_count": null,
   "metadata": {
    "slideshow": {
     "slide_type": "fragment"
    }
   },
   "outputs": [],
   "source": [
    "fruit_prices = {\n",
    "    'apple': 0.65,\n",
    "    'mango': 1.5,\n",
    "    'strawberry': '$3/lb',\n",
    "    'durian': 'unavailable',\n",
    "    5: 'just to make a point'\n",
    "}"
   ]
  },
  {
   "cell_type": "markdown",
   "metadata": {},
   "source": [
    "Note that both the keys and values are heterogeneously typed (observe the last pair, where the key is an integer).\n",
    "\n",
    "#### Dictionary indexing\n",
    "Dictionaries are indexed by key. The syntax is identical to that used for list indexing:"
   ]
  },
  {
   "cell_type": "code",
   "execution_count": null,
   "metadata": {},
   "outputs": [],
   "source": [
    "# Returns the stored value associated with the key 'mango'\n",
    "fruit_prices['mango']"
   ]
  },
  {
   "cell_type": "markdown",
   "metadata": {},
   "source": [
    "However, dictionaries *cannot* be indexed by position, because unlike lists, they're unordered. When you create a dictionary, or add new key:value pairs to an existing dictionary, the order of insertion isn't explicitly tracked. This means you can't ask for, e.g., \"the 4th key:value pair in the dictionary\". The following example fails, with a `KeyError` telling us there is no such key in the dictionary:"
   ]
  },
  {
   "cell_type": "code",
   "execution_count": null,
   "metadata": {},
   "outputs": [],
   "source": [
    "fruit_prices[0]"
   ]
  },
  {
   "cell_type": "markdown",
   "metadata": {},
   "source": [
    "#### Updating a dictionary\n",
    "Updating a dictionary uses the same indexing syntax, except we now make an explicit assignment:"
   ]
  },
  {
   "cell_type": "code",
   "execution_count": null,
   "metadata": {
    "slideshow": {
     "slide_type": "fragment"
    }
   },
   "outputs": [],
   "source": [
    "# Add a new entry for orange\n",
    "fruit_prices['orange'] = 0.5\n",
    "\n",
    "# Overwrite the existing value for mango\n",
    "fruit_prices['mango'] = 2.25"
   ]
  },
  {
   "cell_type": "code",
   "execution_count": null,
   "metadata": {},
   "outputs": [],
   "source": [
    "# Let's look at the dict again...\n",
    "fruit_prices"
   ]
  },
  {
   "cell_type": "markdown",
   "metadata": {
    "slideshow": {
     "slide_type": "subslide"
    }
   },
   "source": [
    "### Tuples\n",
    "Tuples are very similar to lists in Python. The two are easy to confuse, and in practice, you can use a list in most places where you can use a tuple (though there are some important exceptions we won't cover here). The main difference between lists and tuples is that lists are *mutable*, meaning, they can change after initialization. Tuples are *immutable*; once a tuple has been created, it can no longer be modified.\n",
    "\n",
    "We initialize a tuple in much the same way as a list, except we use parentheses instead of square brackets:"
   ]
  },
  {
   "cell_type": "code",
   "execution_count": null,
   "metadata": {
    "slideshow": {
     "slide_type": "fragment"
    }
   },
   "outputs": [],
   "source": [
    "# Tuples are initialized with parentheses, not brackets\n",
    "my_tuple = ('a', 12, 4.4)"
   ]
  },
  {
   "cell_type": "markdown",
   "metadata": {
    "slideshow": {
     "slide_type": "subslide"
    }
   },
   "source": [
    "## Everything in Python is an object\n",
    "The discussion so far might give you the impression that some data types in Python are basic or special in some way. It's natural to think, for example, that strings, integers, and booleans are \"primitive\" data types—i.e., that they're built into the core of the language, behave in special ways, and can't be duplicated, or modified. And this is true in many other programming languages. For example, in Java, there are exactly 8 primitive data types. If you get bored of them, you're out of luck. You can't just create new ones—say, a new type of string that behaves just like the primitive strings, but adds some additional stuff you think would be kind of cool to have.\n",
    "\n",
    "Python is different: it doesn't *really* have any primitive data types. Python is a deeply object-oriented programming language, and in Python, *everything is an object*. Strings are objects, integers are objects, booleans are objects. So are collections. So are dictionaries. Everything is an object. We'll explore some of the deeper implications of this later. For now, let's focus on what it means for the way we write Python code. \n",
    "\n",
    "### The dot notation\n",
    "Let's start with the dot (`.`) notation we use to indicate that we're accessing data or functionality inside a method. You've probably already noticed that there are two kinds of constructions we've been using in our code to do things with variables. There's the functional syntax, where we pass an object as an argument to a function:"
   ]
  },
  {
   "cell_type": "code",
   "execution_count": null,
   "metadata": {},
   "outputs": [],
   "source": [
    "len([2, 4, 1, 9])"
   ]
  },
  {
   "cell_type": "markdown",
   "metadata": {},
   "source": [
    "And then there's the object-oriented syntax that uses the dot notation, which we saw when looking at some of the functionality implemented in strings:"
   ]
  },
  {
   "cell_type": "code",
   "execution_count": null,
   "metadata": {},
   "outputs": [],
   "source": [
    "phrase = \"aPpLeS ArE delICIous\"\n",
    "\n",
    "phrase.lower()"
   ]
  },
  {
   "cell_type": "markdown",
   "metadata": {},
   "source": [
    "If you have some experience in another object-oriented programming language, the dot syntax will be old hat to you. But if you've mostly worked in data-centric languages (e.g., R or Matlab), you might find it puzzling.\n",
    "\n",
    "What's happening in the above example is that we're calling the method `lower()` *on* the `phrase` object itself. You can think of the `.` as expressing a relationship of belonging, or roughly translating as \"look inside of\". So, when we write `phrase.lower()`, we're essentially saying, \"try to call the `lower()` method that's contained inside of `phrase`. (I'm being a bit sloppy here for the sake of simplicity, but that's the gist of it.)\n",
    "\n",
    "Note that `lower()` works on strings, but it isn't a built-in function in Python. We can't just call `lower()` on the air around us:"
   ]
  },
  {
   "cell_type": "code",
   "execution_count": null,
   "metadata": {},
   "outputs": [],
   "source": [
    "lower()"
   ]
  },
  {
   "cell_type": "markdown",
   "metadata": {},
   "source": [
    "And neither is `lower()` a method that's available on *all* objects. For example, this won't work:"
   ]
  },
  {
   "cell_type": "code",
   "execution_count": null,
   "metadata": {},
   "outputs": [],
   "source": [
    "num = 6\n",
    "\n",
    "num.lower()"
   ]
  },
  {
   "cell_type": "markdown",
   "metadata": {},
   "source": [
    "Integers, as it happens, don't contain a method called `lower()`. And neither do most other types. Strings in Python *do* contain a method called `lower()`, and what that method does is return a lower-cased version of the string on which we called the method. But that functionality is a feature of the string type itself, and *not* of the Python language in general.\n",
    "\n",
    "Later, we'll see how we go about defining new types (or classes), and specifying what methods they have. For the moment, the main point to take away is that almost all functionality in Python is going to be accessed via objects. The dot notation is ubiquitous in Python, so you'll need to get used to it quickly if you're used to a purely functional syntax."
   ]
  },
  {
   "cell_type": "markdown",
   "metadata": {},
   "source": [
    "#### Inspecting objects\n",
    "One implication of everything being an object in Python is that we can always find out exactly what data an object contains, and what methods it implements, by inspecting it in various ways.\n",
    "\n",
    "We won't look very far under the hood of objects in this tutorial, but it's worth knowing about a couple of ways of interrogating objects that can make your life easier.\n",
    "\n",
    "First, you can always see the type of an object with the built-in `type()` function:"
   ]
  },
  {
   "cell_type": "code",
   "execution_count": null,
   "metadata": {},
   "outputs": [],
   "source": [
    "msg = 'Hello World!'\n",
    "\n",
    "type(msg)"
   ]
  },
  {
   "cell_type": "markdown",
   "metadata": {},
   "source": [
    "Second, the built-in `dir()` function will show you all of the attributes and methods implemented on an object. Be warned that this will often be a long list, and that some of the attribute names you see (mainly those that start and end with two underscores) will look a little wonky. We'll talk about those briefly later."
   ]
  },
  {
   "cell_type": "code",
   "execution_count": null,
   "metadata": {
    "scrolled": true
   },
   "outputs": [],
   "source": [
    "dir(msg)"
   ]
  },
  {
   "cell_type": "markdown",
   "metadata": {},
   "source": [
    "That's a pretty long list! Any name in that list is available to you as an attribute in the object (e.g., `my_var.values()`, `my_var.__class__`, etc.). Notice that the list contains all of the string methods we experimented with earlier (including `lower`), as well as many others."
   ]
  },
  {
   "cell_type": "markdown",
   "metadata": {
    "slideshow": {
     "slide_type": "subslide"
    }
   },
   "source": [
    "## Namespaces and imports\n",
    "Python is a high-level, dynamic programming language, which people often associated with flexibility and lack of precision (e.g., you don't have to type your variables when you declare them in Python). But in some ways, Python is actually much more of a stickler than most other dynamic languages about the way Python developers write their code. We just saw that Python is very serious about how you indent your code. Another thing that's characteristic of Python is that it takes *namespacing* very seriously.\n",
    "\n",
    "If you're used to languages like, say, R or MATLAB, you might expect to have hundreds of different functions available to call as soon as you fire up an interactive prompt. In Python, the *built-in namespace*—i.e., the set of functions you can invoke when you start running Python—is [very small](https://docs.python.org/3/library/functions.html). This is by design: Python expects you to carefully manage the code you use, and it's particularly serious about making sure you maintain orderly namespaces.\n",
    "\n",
    "In practice, this means that any time you want to use some code that's not available to you in your current [scope](https://en.wikipedia.org/wiki/Scope_(computer_science)), you need to explicitly *import* it from whatever module it's currently in, via an `import` statement. Python's import system often annoys beginners, because it forces them to write additional lines of code that other languages dson't. But once you get used to it, you'll find that it substantially increases code clarity and almost completely eliminates naming conflicts and confusion.\n",
    "\n",
    "### Importing a module\n",
    "Conventionally, all import statements in a Python file are consolidated at the very top (though there are some niche situations where this isn't possible). Here's what the most basic usage of `import` looks like:"
   ]
  },
  {
   "cell_type": "code",
   "execution_count": 16,
   "metadata": {},
   "outputs": [],
   "source": [
    "import numpy as np    # We are renaming the variable we are importing with as keyword"
   ]
  },
  {
   "cell_type": "markdown",
   "metadata": {},
   "source": [
    "By convention, numpy is imported as `np` for brevity. This is a general convention in Python; most widely-used packages have standard abbreviations that everyone in the community uses. While Python itself won't complain if you write, say, `import numpy as my_favorite_numerical_library`, we strongly recommend sticking with the conventional abbreviations, as they make it easier for everyone else to understand what your code is doing at a glance."
   ]
  },
  {
   "cell_type": "markdown",
   "metadata": {},
   "source": [
    "## Numpy"
   ]
  },
  {
   "cell_type": "markdown",
   "metadata": {},
   "source": [
    "In most disciplines, data analysis consists of large tabular data--meaning, two-dimensional tables where data are structured into rows and columns, with each observation typically taking up a row, and each column representing a single variable. \n",
    "\n",
    "For example, consider a typical \"resting state\" fMRI study, in which participants simply lie in the scanner at rest while the machine around them does its thing. Suppose we have 20 participants, each scanned for roughly 30 minutes, with a repetition time (TR)—i.e., the duration of acquisition of each fMRI volume—of 1 second. If the data are acquired at an isotropic spatial resolution of 2mm (i.e., each brain \"voxel\", or 3-dimensional pixel is 2 mm along each dimension), then the resulting dataset might have approximately 20 x 1800 x 100 x 100 x 100 = 36 billion observations. That's a lot of data! Moreover, each subject's data has a clear 4 dimensional structure—the 3 spatial dimensions, plus time. If we wanted to, we could also potentially represent subjects as the 5th dimension, though that involves some complications, since at least initially, different subjects' brains won't be aligned with one another—we'd need to spatially register them for that.\n",
    "\n",
    "It may be helpful to visualize a single subject's data to get a better sense of what the data look like. Of course, most of us mere mortals don't naturally think in 4 dimensions, so we'll need to cheat a little bit. We'll take advantage of the fact that the 3 spatial dimensions have an obvious structure to them, and then we'll concatenate consecutive 3d volumes along a time axis to get the 4th dimension. Here's the idea (image from the [nilearn docs](https://nilearn.github.io/building_blocks/manual_pipeline.html)):\n",
    "\n",
    "<br />\n",
    "\n",
    "![](images/niimgs.jpg)\n",
    "\n",
    "<br />\n",
    "\n",
    "We will typically want to access this data in pretty specific ways. That is, rather than applying an operation to every single voxel in the brain, at every single point in time, we usually want to pull out specific *slices* of the data, and only apply an operation to those slices. Say for example we're interested in a voxel in the amygdala. How would we access only that voxel, at every time point?\n",
    "\n",
    "A very naive approach that we could implement in pure Python would be to store all our data as a nested series of Python lists: each element in the first list would be a list containing data for one time point; each element within the list for each time point would itself be a list containing the 2d slices at each x-coordinate; and so on. Then we could write a series of 4 nested for-loops to sequentially access every data point (or voxel) in our array. For each voxel we inspect, we could then determine whether the voxel is one we want to work with, and if so, apply some operation to it.\n",
    "\n",
    "Basically, we'd have something like this (note that this is just pseudocode, not valid Python code, and you can't execute this snippet!):\n",
    "\n",
    "```python\n",
    "for t in time:\n",
    "    for x in t:\n",
    "        for y in x:\n",
    "            for z in y:\n",
    "                if z is in amygdala:\n",
    "                    apply_my_function(z)\n",
    "```"
   ]
  },
  {
   "cell_type": "markdown",
   "metadata": {},
   "source": [
    "Something like the above would probably work just fine. But it would be very inefficient, and might take a while to execute. Notice that even if we only want to access a single amygdala voxel at each timepoint (i.e., 1800 data points in total, if we stick with our resting state example from above), our naive looping approach still requires us to inspect every single one of the 1.8 billion voxels in our dataset—even if all we're doing for the vast majority of voxels is deciding that we don't actually need to use that voxel in our analysis! This is, to put it mildly, A Bad Thing.\n",
    "\n",
    "Computer scientists have developed a notation for more precisely describing how much of a bad thing it is: *Big O notation*, which gives us a formal way of representing the time complexity of an algorithm. In Big O notation, the code above runs in $O(n^4)$ time. Meaning, for any given dimension size $n$ (we assume for simplicity that $n$ is the same for all dimensions), we need to perform on the order of $n^4$ computations. To put this in perspective, just going from $n = 2$ to $n = 4$ means that we go from $2^4 = 16$ to $4^4 = 256$ operations. You can see how this might start to become problematic as $n$ gets large.\n",
    "\n",
    "The lesson we should take away from this is that writing naive Python loops just to access the values at a specific index in our dataset is a bad idea.\n",
    "\n",
    "### List indexing\n",
    "Fortunately, since we've already covered list indexing in Python, we have a better way to access the amygdala data we want. We know that the outer dimension in our nested list represents time, and we also know that the spatial index of the amygdala voxel we want will be constant across time points. This means that instead of writing a 4-level nested for-loop, we can do the job in just a single loop. If we know that the index of the amygdala voxel we want in our 3-d image is [20, 18, 32], then the following code suffices (again note that this code can't be executed):\n",
    "\n",
    "```python\n",
    "amygdala_values = []\n",
    "\n",
    "for t in dataset:\n",
    "    amygdala_values.append(t[20][18][32])\n",
    "```"
   ]
  },
  {
   "cell_type": "markdown",
   "metadata": {},
   "source": [
    "That's a big improvement! In terms of time complexity! We've gone from an $O(n^4)$ to an $O(n)$ algorithm. The time our new algorithm takes to run is now linear in the number of timepoints in our dataset, rather than growing as a polynomial function of it.\n",
    "\n",
    "### Towards a specialized array structure\n",
    "Unfortunately, our new approach still isn't great. One problem is that performance still won't be so good, because base Python isn't really optimized for the kind of operation we just saw—i.e., indexing repeatedly into nested lists. For one thing, Python is a dynamically typed language, so there will be some overhead involved in accessing each individual element (because the interpreter has to examine the object and determine its type), and this can quickly add up if we have millions or billions of elements.\n",
    "\n",
    "The other big limitation is that, even if lists themselves were super fast to work with, the Python standard library provides limited functionality for doing numerical analysis on them. There are a lot of basic numerical operations we might want to apply to our data that would be really annoying to write in core Python. For example, Python lists don't natively support matrix operations, so if we wanted to multiply one matrix (represented as a list of lists) by another, we'd probably need to write out a series of summations and multiplications ourselves inside for-loops. And that would be completely impractical given how basic and common an operation matrix multiplication is.\n",
    "\n",
    "The bottom line is that, as soon as we start working with large, or highly structured datasets—as is true of most datasets in neuroimaging—we're going to have to look beyond what Python provides us in its standard library. Lists just aren't going to cut it; we need some other kind of data structure—one that's optimized for numerical analysis on large, N-dimensional datasets. This is where *numpy* comes into play."
   ]
  },
  {
   "cell_type": "markdown",
   "metadata": {},
   "source": [
    "### The NDArray (n-dimensional array)\n",
    "The core data structure in numpy is the *n-dimensional array* (or `ndarray`). As the name suggests,  an `ndarray` is an array with an arbitrary number of dimensions. Unlike Python lists, numpy arrays are homogeneously typed—meaning, every element in the array has to have the same data type. You can have an array of floats, or an array of integers, but you can't have an array that mixes floats and integers (though numpy does have a [structured array](https://numpy.org/doc/stable/user/basics.rec.html) data type we won't cover here that provides a way of representing heterogeneous data).\n",
    "\n",
    "### Creating NDArrays\n",
    "Like any other Python object, we need to initialize an `ndarray` before we can do anything with it. Numpy provides us with several ways to create new arrays. Let's explore a couple."
   ]
  },
  {
   "cell_type": "markdown",
   "metadata": {},
   "source": [
    "#### Initializing an array from an existing list\n",
    "Let's start by constructing an array from existing data. Assume we have some values already stored in a native Python iterable object (typically, a list), and we want to convert that object to an ndarray so that we can perform more efficient numerical operations on it. In this case, we can just pass the iterable object directly to `np.ndarray()`. "
   ]
  },
  {
   "cell_type": "code",
   "execution_count": 17,
   "metadata": {},
   "outputs": [
    {
     "data": {
      "text/plain": [
       "array([1, 2, 3, 4, 5, 6])"
      ]
     },
     "execution_count": 17,
     "metadata": {},
     "output_type": "execute_result"
    }
   ],
   "source": [
    "np.array([1, 2, 3, 4, 5, 6])"
   ]
  },
  {
   "cell_type": "markdown",
   "metadata": {},
   "source": [
    "Numpy is pretty good about figuring out what kind of array we want based on the input data; for example, if we pass in a list of lists, where each of the inner lists has the same number of elements, numpy will infer that we want to construct a 2-dimensional array:"
   ]
  },
  {
   "cell_type": "code",
   "execution_count": 18,
   "metadata": {},
   "outputs": [
    {
     "data": {
      "text/plain": [
       "array([[1, 2, 5],\n",
       "       [4, 1, 7]])"
      ]
     },
     "execution_count": 18,
     "metadata": {},
     "output_type": "execute_result"
    }
   ],
   "source": [
    "# A Python list of lists\n",
    "my_list = [[1, 2, 5], [4, 1, 7]]\n",
    "\n",
    "# Construct an array from the list\n",
    "my_arr = np.array(my_list)\n",
    "\n",
    "my_arr"
   ]
  },
  {
   "cell_type": "markdown",
   "metadata": {},
   "source": [
    "The first time you see a printed representation of a numpy array, as in the above output, it might look a little confusing. But the visual representation closely resembles what we'd see if we were to print a nested list in Python. In the 2-dimensional case above, the elements of the outer list are the values along the first dimension, and each inner list gives the values along the second dimension. This ends up giving us a nice tabular representation, where, at least for small arrays, we can just read off the values from the output. For example, the first row of the array contains the values [1, 2, 5]; the second column of the array contains the values [2, 1]; and so on.\n",
    "\n",
    "**Exercise**: extend the above principle into 3 dimensions: create a list of list of lists, initialize an array from the list, and print into the screen. Make sure you understand how the values displayed visually map onto the dimensions of the array."
   ]
  },
  {
   "cell_type": "markdown",
   "metadata": {},
   "source": [
    "#### Initializing an empty array\n",
    "Alternatively, we can construct a new array from scratch and fill it with some predetermined value--most commonly zero. We can do this easily in numpy using the conveniently-named `zeros()` function. In many practical applications, we can think of this as an \"empty\" array (though technically we could also create a *truly* empty array that has *no* assigned values using the `empty()` function).\n",
    "\n",
    "The `zeros()` function takes a mandatory `shape` tuple as its first argument; this specifies the dimensions of the desired array."
   ]
  },
  {
   "cell_type": "code",
   "execution_count": 19,
   "metadata": {},
   "outputs": [],
   "source": [
    "# Create a new 10 x 10 array\n",
    "arr_2d = np.zeros((5, 10))\n",
    "\n",
    "# Create a new 3-d array with dimensions 2, 4, 8\n",
    "arr_3d = np.zeros((2, 4, 8))"
   ]
  },
  {
   "cell_type": "markdown",
   "metadata": {},
   "source": [
    "#### Other array initializers\n",
    "Numpy has many other functions for creating new arrays. Here are a few:"
   ]
  },
  {
   "cell_type": "code",
   "execution_count": 20,
   "metadata": {},
   "outputs": [
    {
     "data": {
      "text/plain": [
       "array([4, 5, 6, 7, 8, 9])"
      ]
     },
     "execution_count": 20,
     "metadata": {},
     "output_type": "execute_result"
    }
   ],
   "source": [
    "# Returns an array of evenly-spaced values within a certain range\n",
    "np.arange(4, 10)"
   ]
  },
  {
   "cell_type": "code",
   "execution_count": 21,
   "metadata": {},
   "outputs": [
    {
     "data": {
      "text/plain": [
       "array([[-1.08273702, -1.57176109],\n",
       "       [-2.44908769,  0.24230727],\n",
       "       [ 6.87015789,  6.9703888 ],\n",
       "       [ 2.22848188,  0.85826705],\n",
       "       [-0.24494947,  2.19379663],\n",
       "       [-6.76889837,  1.24583628],\n",
       "       [ 4.54736694, -4.0776132 ],\n",
       "       [-1.1619039 ,  7.0420841 ],\n",
       "       [ 8.16699811,  4.4363922 ],\n",
       "       [ 3.70915013,  3.60450297]])"
      ]
     },
     "execution_count": 21,
     "metadata": {},
     "output_type": "execute_result"
    }
   ],
   "source": [
    "# Generate normally distributed values drawn from a distribution with the specified shape.\n",
    "# There are several other random number generating functions in the np.random module.\n",
    "# Here we generate a 10 x 2 array of values sampled from a normal distribution with\n",
    "# mean of 2 and sd of 4.\n",
    "np.random.normal(2, 4, size=(10, 2))"
   ]
  },
  {
   "cell_type": "code",
   "execution_count": 22,
   "metadata": {},
   "outputs": [
    {
     "data": {
      "text/plain": [
       "array([[400, 400, 400, 400, 400],\n",
       "       [400, 400, 400, 400, 400],\n",
       "       [400, 400, 400, 400, 400],\n",
       "       [400, 400, 400, 400, 400],\n",
       "       [400, 400, 400, 400, 400]])"
      ]
     },
     "execution_count": 22,
     "metadata": {},
     "output_type": "execute_result"
    }
   ],
   "source": [
    "# np.full() is like np.zeros() and np.ones(), but fills the array with the\n",
    "# specified value instead of 0 or 1.\n",
    "np.full((5, 5), 400)"
   ]
  },
  {
   "cell_type": "markdown",
   "metadata": {},
   "source": [
    "### Inspecting NDArrays\n",
    "Like most other Python objects, the `ndarray` class has all kinds of attributes we can access and inspect, if we want to understand the structure and content of the data.\n",
    "\n",
    "#### Array shape\n",
    "One indispensable method is `.shape`, which tells us the shape of the array:"
   ]
  },
  {
   "cell_type": "code",
   "execution_count": 23,
   "metadata": {},
   "outputs": [
    {
     "data": {
      "text/plain": [
       "(2, 3)"
      ]
     },
     "execution_count": 23,
     "metadata": {},
     "output_type": "execute_result"
    }
   ],
   "source": [
    "my_list = [[1, 2, 5], [4, 1, 7]]\n",
    "\n",
    "my_arr.shape"
   ]
  },
  {
   "cell_type": "markdown",
   "metadata": {},
   "source": [
    "This array has shape `(2, 3)`—i.e., there are 2 elements along the first axis and 3 along the second axis.\n",
    "\n",
    "We can tell that the array is 2-dimensional from the number of elements in the `shape` tuple. But we could also get the number of dimensions directly using the `ndim` attribute:"
   ]
  },
  {
   "cell_type": "code",
   "execution_count": 24,
   "metadata": {},
   "outputs": [
    {
     "data": {
      "text/plain": [
       "2"
      ]
     },
     "execution_count": 24,
     "metadata": {},
     "output_type": "execute_result"
    }
   ],
   "source": [
    "my_arr.ndim"
   ]
  },
  {
   "cell_type": "markdown",
   "metadata": {},
   "source": [
    "#### Array data type\n",
    "As we noted above, NDArrays are homogeneous: all the values in an array have the same type. We can find out that type from the `dtype` attribute:"
   ]
  },
  {
   "cell_type": "code",
   "execution_count": 25,
   "metadata": {},
   "outputs": [
    {
     "name": "stdout",
     "output_type": "stream",
     "text": [
      "dtype of my_arr: int64\n",
      "dtype of arr_3d: float64\n"
     ]
    }
   ],
   "source": [
    "print(\"dtype of my_arr:\", my_arr.dtype)\n",
    "print(\"dtype of arr_3d:\", arr_3d.dtype)"
   ]
  },
  {
   "cell_type": "markdown",
   "metadata": {},
   "source": [
    "When initializing an array from a list, numpy will infer a suitable datatype by inspecting the types of the elements in the input. In the above example, `my_arr` has a `dtype` of `int64`, because we initialized it by passing in a list of Python `int`s. (**Exercise**: Create a Python list containing heterogeneous types, and see what happens to the inferred `dtype` when you create a numpy array. Try different combinations of types, including a dictionary.)\n",
    "\n",
    "By contrast, `np.zeros()` will always create an array of floats by default. If we want to explicitly control the dtype of the constructed array, we can pass a `dtype` argument:"
   ]
  },
  {
   "cell_type": "code",
   "execution_count": 26,
   "metadata": {},
   "outputs": [
    {
     "data": {
      "text/plain": [
       "array([0, 0, 0, 0, 0])"
      ]
     },
     "execution_count": 26,
     "metadata": {},
     "output_type": "execute_result"
    }
   ],
   "source": [
    "np.zeros((5,), dtype=int)"
   ]
  },
  {
   "cell_type": "markdown",
   "metadata": {},
   "source": [
    "In this case, we're stipulating that the constructed array should have an integer datatype.\n",
    "\n",
    "You may have noticed that the data types numpy uses look a little different from basic Python types. Instead of the familiar `int` and `float`, for instance, we now see `int64` and `float64`. This distinction is important, as numpy data types aren't the same as base Python types (though they have many similar behaviors). Also, numpy has many more [numerical data types]((https://numpy.org/doc/stable/reference/arrays.dtypes.html)) than base Python."
   ]
  },
  {
   "cell_type": "markdown",
   "metadata": {},
   "source": [
    "### Indexing arrays\n",
    "We've seen how we can create arrays and describe them; now let's talk about how we can get data in and out of arrays. We already know how to index Python lists, and array indexing in Python will look quite similar. But numpy indexing adds considerably more flexibility and power, and developing array indexing facility is a critical step towards acquiring general proficiency with the package.\n",
    "\n",
    "#### Indexing in one dimension\n",
    "Let's start with the simplest case: indexing 1-dimensional arrays. This looks very much like list indexing.\n",
    "\n",
    "Let's create a 1-d array to work with:"
   ]
  },
  {
   "cell_type": "code",
   "execution_count": null,
   "metadata": {},
   "outputs": [],
   "source": [
    "arr = np.array([7, 1, 9, 14, 2, 8, 9, 6, 10, 4])\n",
    "\n",
    "arr"
   ]
  },
  {
   "cell_type": "markdown",
   "metadata": {},
   "source": [
    "To access the $i^{th}$ element in the array, we follow the Python list syntax:"
   ]
  },
  {
   "cell_type": "code",
   "execution_count": null,
   "metadata": {},
   "outputs": [],
   "source": [
    "arr[3]"
   ]
  },
  {
   "cell_type": "markdown",
   "metadata": {},
   "source": [
    "Observe that numpy arrays use 0-based indexing, like base Python and most other programming languages, rather than the 1-based indexing found in several other data-centric languages (e.g., R and MATLAB). So `arr[3]` returns the 4th value in the array (i.e., `14`), not the 3rd.\n",
    "\n",
    "Numpy arrays also support two other important syntactic conventions found in Python lists: indexing from the end of the array, and \"slicing\" the array to extract multiple contiguous values.\n",
    "\n",
    "To index from the end, we use the minus sign (`-`):"
   ]
  },
  {
   "cell_type": "code",
   "execution_count": null,
   "metadata": {},
   "outputs": [],
   "source": [
    "arr[-2]"
   ]
  },
  {
   "cell_type": "markdown",
   "metadata": {},
   "source": [
    "This gives us the 2nd last value in the array.\n",
    "\n",
    "To slice an array, we use the colon (`:`) operator, passing in the positions we want to start and end at:"
   ]
  },
  {
   "cell_type": "code",
   "execution_count": null,
   "metadata": {},
   "outputs": [],
   "source": [
    "arr[2:6]"
   ]
  },
  {
   "cell_type": "markdown",
   "metadata": {},
   "source": [
    "Notice that the start index is inclusive and the end index is exclusive (i.e., in the above example, the resulting array includes the value at position `2`, but excludes the one at position `6`).\n",
    "\n",
    "We can also omit the start or end indexes, in which case numpy will return *all* positions up to, or starting from, the provided index. For example, to get the first 4 elements:"
   ]
  },
  {
   "cell_type": "code",
   "execution_count": null,
   "metadata": {},
   "outputs": [],
   "source": [
    "arr[:4]"
   ]
  },
  {
   "cell_type": "markdown",
   "metadata": {},
   "source": [
    "If we want to get even fancier, we can add a third number to the requested slice. This tells us the size of the *step* used in slicing. For example, to get every third value in the list, starting with the 2nd element, and ending before the second-last element:"
   ]
  },
  {
   "cell_type": "code",
   "execution_count": null,
   "metadata": {},
   "outputs": [],
   "source": [
    "arr[1:-2:3]"
   ]
  },
  {
   "cell_type": "markdown",
   "metadata": {},
   "source": [
    "#### Indexing in multiple dimensions\n",
    "Once we start working with arrays with more than one dimension, indexing gets a little more complicate—both because the syntax is a little different, and because there's a lot more we can *do* with multi-dimensional arrays.\n",
    "\n",
    "Let's explore indexing in 3 dimensions. We could easily create a new array, just as we did earlier. But instead, we'll cheat a bit and use some real neuroimaging data—specifically, an anatomical brain volume. This will keep things a bit more interesting, and should also make it easier to build intuitions about arrays, as we'll be working with numbers that have some concrete meaning."
   ]
  },
  {
   "cell_type": "code",
   "execution_count": 27,
   "metadata": {},
   "outputs": [],
   "source": [
    "import nibabel as nib\n",
    "\n",
    "img = nib.load('data/anatomical.nii.gz')\n",
    "data = img.get_fdata()"
   ]
  },
  {
   "cell_type": "markdown",
   "metadata": {},
   "source": [
    "Now the `data` variable is an NDArray that behaves just like the ones we've already seen. Let's interrogate it:"
   ]
  },
  {
   "cell_type": "code",
   "execution_count": 28,
   "metadata": {},
   "outputs": [
    {
     "data": {
      "text/plain": [
       "(91, 109, 91)"
      ]
     },
     "execution_count": 28,
     "metadata": {},
     "output_type": "execute_result"
    }
   ],
   "source": [
    "data.shape"
   ]
  },
  {
   "cell_type": "code",
   "execution_count": 29,
   "metadata": {},
   "outputs": [
    {
     "data": {
      "text/plain": [
       "dtype('float64')"
      ]
     },
     "execution_count": 29,
     "metadata": {},
     "output_type": "execute_result"
    }
   ],
   "source": [
    "data.dtype"
   ]
  },
  {
   "cell_type": "markdown",
   "metadata": {},
   "source": [
    "As you can see, we have a 3-dimensional array with shape (91, 109, 91). This is the shape of the famous MNI152 2mm template—probably the single most common standard space in which neuroimaging data analysis has historically been conducted. That's not a coincidence; the image we just loaded *is* the MNI152 2mm anatomical image. You can find more details about it [here](http://nist.mni.mcgill.ca/?p=858).\n",
    "\n",
    "Now we can start working with our image. To maximize clarity, let's assign the labels $i$, $j$, and $k$ to the three axes (or dimensions) of the array, where $i$ is the first dimension, $j$ is the second, and $k$ is the third. Let's retrieve a single value from the array—say, the one stored at $i$ = 45, $j$ = 54, $k$ = 45. Just as with one-dimensional indexing, we again pass the indexes inside square brackets. But this time, we separate the axes with commas:"
   ]
  },
  {
   "cell_type": "code",
   "execution_count": 30,
   "metadata": {},
   "outputs": [
    {
     "data": {
      "text/plain": [
       "5391.0"
      ]
     },
     "execution_count": 30,
     "metadata": {},
     "output_type": "execute_result"
    }
   ],
   "source": [
    "data[45, 54, 45]"
   ]
  },
  {
   "cell_type": "markdown",
   "metadata": {},
   "source": [
    "The value we get tells us the intensity of the MR signal at the specified voxel. If we were to plot the volume visually (and we will, momentarily), we could interpret the values as visual parameters (e.g., brightness or hue). While the absolute numbers in the image have no meaningful interpretation here, the relative variation *across* voxels certainly does, as we'll demonstrate below.\n",
    "\n",
    "So much for single values; what about multiple values? The slicing syntax used with Python lists and 1-dimensional numpy arrays still works fine. For example, to get the first 20 values along the $i$ axis, but only for $j$ = 54 and $k$ = 45:"
   ]
  },
  {
   "cell_type": "code",
   "execution_count": 31,
   "metadata": {},
   "outputs": [
    {
     "data": {
      "text/plain": [
       "array([   0.,    0.,    0.,    0.,    0.,    0.,    0.,    0.,    0.,\n",
       "          0.,    0., 4507., 5647., 6082., 6315., 6487., 6590., 6613.,\n",
       "       6539., 6312.])"
      ]
     },
     "execution_count": 31,
     "metadata": {},
     "output_type": "execute_result"
    }
   ],
   "source": [
    "data[:20, 54, 45]"
   ]
  },
  {
   "cell_type": "markdown",
   "metadata": {},
   "source": [
    "The first few values in the array are 0, presumably because they're outside the brain, and hence carry no anatomical information.\n",
    "\n",
    "Notice that even though the `data` array we started with had 3 dimensions, the sub-array we get back is a 1-dimensional numpy array. We can verify this by inspecting the shape of the result:"
   ]
  },
  {
   "cell_type": "code",
   "execution_count": 32,
   "metadata": {},
   "outputs": [
    {
     "data": {
      "text/plain": [
       "(20,)"
      ]
     },
     "execution_count": 32,
     "metadata": {},
     "output_type": "execute_result"
    }
   ],
   "source": [
    "data[:20, 54, 45].shape"
   ]
  },
  {
   "cell_type": "markdown",
   "metadata": {},
   "source": [
    "The latter two dimensions are implicitly omitted, because we only requested a slice along the first dimension (try replacing the code in the above cell with `data[:20, 54:55, 45]` and see what happens). \n",
    "\n",
    "What about slicing along multiple dimensions simultaneously? That also works fine. Let's say we want to get the 2-dimensional plane defined by $k = 45$. If we don't have starting and ending positions in mind—i.e., we want to get *all* available values in the plane, we can pass the `:` operator in the desired axes without further elaboration:"
   ]
  },
  {
   "cell_type": "code",
   "execution_count": 33,
   "metadata": {},
   "outputs": [
    {
     "data": {
      "text/plain": [
       "array([[0., 0., 0., ..., 0., 0., 0.],\n",
       "       [0., 0., 0., ..., 0., 0., 0.],\n",
       "       [0., 0., 0., ..., 0., 0., 0.],\n",
       "       ...,\n",
       "       [0., 0., 0., ..., 0., 0., 0.],\n",
       "       [0., 0., 0., ..., 0., 0., 0.],\n",
       "       [0., 0., 0., ..., 0., 0., 0.]])"
      ]
     },
     "execution_count": 33,
     "metadata": {},
     "output_type": "execute_result"
    }
   ],
   "source": [
    "data[:, :, 45]"
   ]
  },
  {
   "cell_type": "markdown",
   "metadata": {},
   "source": [
    "Let's verify that we get back a 2-dimensional array:"
   ]
  },
  {
   "cell_type": "code",
   "execution_count": 34,
   "metadata": {},
   "outputs": [
    {
     "data": {
      "text/plain": [
       "(91, 109)"
      ]
     },
     "execution_count": 34,
     "metadata": {},
     "output_type": "execute_result"
    }
   ],
   "source": [
    "data[:, :, 45].shape"
   ]
  },
  {
   "cell_type": "markdown",
   "metadata": {},
   "source": [
    "To help build intuitions about what's going here, let's make things more concrete. We're going to cheat again and once more borrow content from course material we haven't yet covered--in this case, from the material on visualization. As before, I won't bother explaining the code just yet; we'll talk about that later on. Let's just focus on the result."
   ]
  },
  {
   "cell_type": "code",
   "execution_count": 35,
   "metadata": {},
   "outputs": [
    {
     "data": {
      "image/png": "[encoded data removed]",
      "text/plain": [
       "<Figure size 432x288 with 1 Axes>"
      ]
     },
     "metadata": {
      "needs_background": "light"
     },
     "output_type": "display_data"
    }
   ],
   "source": [
    "%matplotlib inline \n",
    "\n",
    "# same slice as above\n",
    "axial_slice = data[:, :, 45]\n",
    "\n",
    "# matplotlib is Python's workhorse plotting library\n",
    "import matplotlib.pyplot as plt\n",
    "\n",
    "# imshow plots a 2d array as an image\n",
    "plt.imshow(axial_slice);"
   ]
  },
  {
   "cell_type": "markdown",
   "metadata": {},
   "source": [
    "Just like that, in a single line of code, we've turned a 2-dimensional array of numbers into a plot of an axial brain slice!\n",
    "\n",
    "Granted, it probably isn't the most beautiful brain image anyone's ever seen; gray matter, as its name implies, is usually gray (or at worst, pinkish), and not neon green. But no matter. In later parts of the course, we'll mess around with Python's vast visualization capabilities, and you'll be able to tweak the colors, and everything else about the above figure, to your heart's content. For now, the important thing is just to gaze in awe upon the image above.\n",
    "\n",
    "It's easy to take what we just did for granted, seeing as it only took us 3 - 4 line of code. As we get deeper into the course, and do far more sophisticated things with neuroimaging data, the above example will probably start to seem really trivial (if it doesn't already). Still, it's worth taking a moment to think about what we were able to accomplish in a matter of seconds, thanks to the heroic efforts of tens of thousands of scientists, engineers, and software developers that came before us. We took a 2-dimensional array containing about 10,000 floating-point numbers, and just by mapping those values onto different colors, we were able to project the array onto a visual plot in a way that allows us to immediately *see* and make sense of an actual human brain--a brain that was imaged using an extremely large magnet, while still safely housed inside somebody's skull (technically, the image is derived from many people's brains, but you get the point). That's pretty remarkable, isn't it?\n",
    "\n",
    "#### From image to world coordinates\n",
    "If you've worked with human brain images before, you might recognize the slice plotted above: in the standard coordinate space used in MRI, it's the slice you get at $z = 0$—i.e., an axial (or transverse, or horizontal) slice through roughly the middle of the brain. In this space, the origin (i.e., the point with coordinates (0, 0, 0)) is conventionally located at the midpoint of the line between the anterior and posterior commissures (the AC-PC line).\n",
    "\n",
    "Armed with this knowledge, you might be thinking that it should be easy to plot a brain slice along *any* of the conventional axes—axial (as above), sagittal, or coronal. And you'd be right. Now that we know that the image-space dimensions we've labeled $i$, $j$, and $k$ correspond to the world-space axes $x$, $y$, and $z$, it's a snap to plot any slice we want. For example, to plot the coronal slice at $y = 10$:"
   ]
  },
  {
   "cell_type": "code",
   "execution_count": 36,
   "metadata": {},
   "outputs": [
    {
     "data": {
      "image/png": "[encoded data removed]",
      "text/plain": [
       "<Figure size 432x288 with 1 Axes>"
      ]
     },
     "metadata": {
      "needs_background": "light"
     },
     "output_type": "display_data"
    }
   ],
   "source": [
    "plt.imshow(data[:, 59, :]);"
   ]
  },
  {
   "cell_type": "markdown",
   "metadata": {},
   "source": [
    "You might notice that the orientation of the image is wrong (at least, relative to the way coronal slices are usually oriented in images); we'll fix that in a moment.\n",
    "\n",
    "You might also notice that the index we passed (`59`)—is 5 off from the center of the array (i.e., `59 - 54 = 5`), and not 10, as you might expect given that we wanted the slice at $y = 10$. But remember: image space and world space are different things. Later in the course, when we cover NiBabel, we'll talk at length about the *affine* array contained in every Nifti image file's header, which tells us exactly what the mapping between the two spaces is. For now, we can dispense with any confusion by observing that each voxel in our image is 2 mm in width, so moving 10 mm in world space (from $y = 0$ to $y = 10$) corresponds to a move of only 5 element in image space."
   ]
  },
  {
   "cell_type": "markdown",
   "metadata": {},
   "source": [
    "#### Setting values\n",
    "So far we've only used the indexing syntax to *get* values from arrays. But it also allows us to *set* new values in an array. Setting a single value operates just the way it does with lists:"
   ]
  },
  {
   "cell_type": "code",
   "execution_count": 37,
   "metadata": {},
   "outputs": [
    {
     "data": {
      "text/plain": [
       "array([  7,   1, 100,  14,   2,   8,   9,   6,  10,   4])"
      ]
     },
     "execution_count": 37,
     "metadata": {},
     "output_type": "execute_result"
    }
   ],
   "source": [
    "arr = np.array([7, 1, 9, 14, 2, 8, 9, 6, 10, 4])\n",
    "arr[2] = 100\n",
    "arr"
   ]
  },
  {
   "cell_type": "markdown",
   "metadata": {},
   "source": [
    "What about multiple values? Can we replace the values of a sub-array in a single shot? The answer is yes."
   ]
  },
  {
   "cell_type": "code",
   "execution_count": 38,
   "metadata": {},
   "outputs": [],
   "source": [
    "arr[2:4] = [1, 5]"
   ]
  },
  {
   "cell_type": "markdown",
   "metadata": {},
   "source": [
    "And the same goes for arrays with more than one dimension:"
   ]
  },
  {
   "cell_type": "code",
   "execution_count": 39,
   "metadata": {},
   "outputs": [
    {
     "data": {
      "text/plain": [
       "array([[0., 0., 1., 1., 1.],\n",
       "       [0., 0., 1., 1., 1.],\n",
       "       [0., 0., 1., 1., 1.],\n",
       "       [0., 0., 0., 0., 0.],\n",
       "       [0., 0., 0., 0., 0.]])"
      ]
     },
     "execution_count": 39,
     "metadata": {},
     "output_type": "execute_result"
    }
   ],
   "source": [
    "# create a 5 x 5 array of zeros\n",
    "arr_2d = np.zeros((5, 5))\n",
    "\n",
    "# create a 3 x 3 array of ones.\n",
    "# np.ones() is just like np.zeros(), but fills the matrix with ones\n",
    "ones = np.ones((3, 3))\n",
    "\n",
    "# replace a 3 x 3 sub-array of arr_2d with ones\n",
    "arr_2d[:3, 2:] = ones\n",
    "\n",
    "arr_2d"
   ]
  },
  {
   "cell_type": "markdown",
   "metadata": {},
   "source": [
    "###  Restructuring arrays\n",
    "Sometimes the existing structure or shape of an array doesn't lend itself well to the operations we intend to perform. This is common, for example, when doing linear algebra, which often needs arrays to have dimensions that align with one another in certain ways. Fortunately, numpy gives us lots of tools for restructuring arrays in various ways. Let's explore a few of them.\n",
    "\n",
    "#### Reshaping\n",
    "One very useful function is `reshape()`, which takes a single array as input and returns another array with a different shape as output (technically `reshape*()` returns a *view* on an array, but we'll cover that in the second part of this tutorial).\n",
    "\n",
    "First, let's make a 1-d array with 100 elements:"
   ]
  },
  {
   "cell_type": "code",
   "execution_count": 40,
   "metadata": {},
   "outputs": [
    {
     "name": "stdout",
     "output_type": "stream",
     "text": [
      "x: [ 0  1  2  3  4  5  6  7  8  9 10 11 12 13 14 15 16 17 18 19 20 21 22 23\n",
      " 24 25 26 27 28 29 30 31 32 33 34 35 36 37 38 39 40 41 42 43 44 45 46 47\n",
      " 48 49 50 51 52 53 54 55 56 57 58 59 60 61 62 63 64 65 66 67 68 69 70 71\n",
      " 72 73 74 75 76 77 78 79 80 81 82 83 84 85 86 87 88 89 90 91 92 93 94 95\n",
      " 96 97 98 99]\n"
     ]
    }
   ],
   "source": [
    "x = np.arange(100)\n",
    "print(\"x:\", x)"
   ]
  },
  {
   "cell_type": "markdown",
   "metadata": {},
   "source": [
    "Now we'll reshape it. The `reshape()` function takes two mandatory arguments: the array we want to reshape, and the new shape we want:"
   ]
  },
  {
   "cell_type": "code",
   "execution_count": 41,
   "metadata": {},
   "outputs": [
    {
     "data": {
      "text/plain": [
       "array([[ 0,  1,  2,  3,  4,  5,  6,  7,  8,  9],\n",
       "       [10, 11, 12, 13, 14, 15, 16, 17, 18, 19],\n",
       "       [20, 21, 22, 23, 24, 25, 26, 27, 28, 29],\n",
       "       [30, 31, 32, 33, 34, 35, 36, 37, 38, 39],\n",
       "       [40, 41, 42, 43, 44, 45, 46, 47, 48, 49],\n",
       "       [50, 51, 52, 53, 54, 55, 56, 57, 58, 59],\n",
       "       [60, 61, 62, 63, 64, 65, 66, 67, 68, 69],\n",
       "       [70, 71, 72, 73, 74, 75, 76, 77, 78, 79],\n",
       "       [80, 81, 82, 83, 84, 85, 86, 87, 88, 89],\n",
       "       [90, 91, 92, 93, 94, 95, 96, 97, 98, 99]])"
      ]
     },
     "execution_count": 41,
     "metadata": {},
     "output_type": "execute_result"
    }
   ],
   "source": [
    "# 1st argument is the array to be reshaped; 2nd is the target shape\n",
    "np.reshape(x, (10, 10))"
   ]
  },
  {
   "cell_type": "markdown",
   "metadata": {},
   "source": [
    "As you might intuitively expect, the new shape has to be compatible with the old one. It would be strange if we could, say, reshape an array with shape `(100,)` into one with shape `(179, 1)`; where would the extra 79 elements in the latter magically come from? (You can verify this for yourself by replacing `(10, 10)` with `(179, 1)` above, and watching numpy yell at you.)\n",
    "\n",
    "The easiest way to ensure compatible shapes is to provide a new shape tuple that implies an equal number of elements to the existing array. Meaning, the product of the old shape tuple should be equal to the product of the new one. In the above example, we created a 1-dimensional array with 100 values, and then reshaped it to a 2-dimensional array with shape `(10, 10)`. This works, because `(100,)` and `(10, 10)` both imply the same number of elements (100). We could also have reshaped to `(50, 2)`, `(4, 25)`, and so on.\n",
    "\n",
    "**Exercise**: starting with the same `x` array above, reshape it so that instead of having 2 dimensions, the output now has 4 dimensions (of any size).\n",
    "\n",
    "#### Transposition\n",
    "Another common restructuring operation is *transposition*, which reverses the order of an array's axes. This is easy to visualize in two dimensions:"
   ]
  },
  {
   "cell_type": "code",
   "execution_count": 42,
   "metadata": {},
   "outputs": [
    {
     "name": "stdout",
     "output_type": "stream",
     "text": [
      "x:\n",
      " [[1. 1.]\n",
      " [1. 1.]\n",
      " [1. 1.]\n",
      " [1. 1.]\n",
      " [1. 1.]]\n",
      "\n",
      "x transposed:\n",
      " [[1. 1. 1. 1. 1.]\n",
      " [1. 1. 1. 1. 1.]]\n"
     ]
    }
   ],
   "source": [
    "x = np.ones((5, 2))\n",
    "print(\"x:\\n\", x)\n",
    "print(\"\\nx transposed:\\n\", np.transpose(x))"
   ]
  },
  {
   "cell_type": "markdown",
   "metadata": {},
   "source": [
    "The transposition reverses the axes, so that the shape `(5, 2)` becomes `(2, 5)`. This also works in additional dimensions (e.g., transposing an array with shape `(10, 5, 2)` gives one with shape `(2, 5, 10)`).\n",
    "\n",
    "For convenience, we can also use an array's `.T` attribute as shorthand for `np.transpose()`:"
   ]
  },
  {
   "cell_type": "code",
   "execution_count": 43,
   "metadata": {},
   "outputs": [
    {
     "name": "stdout",
     "output_type": "stream",
     "text": [
      "[[1. 1. 1. 1. 1.]\n",
      " [1. 1. 1. 1. 1.]]\n"
     ]
    }
   ],
   "source": [
    "x = np.ones((5, 2))\n",
    "print(x.T)"
   ]
  },
  {
   "cell_type": "markdown",
   "metadata": {},
   "source": [
    "Remember the misoriented coronal brain slice we plotted earlier? Now that we know how to transpose an array, we're in a position to fix that!"
   ]
  },
  {
   "cell_type": "code",
   "execution_count": 44,
   "metadata": {},
   "outputs": [
    {
     "data": {
      "image/png": "[encoded data removed]",
      "text/plain": [
       "<Figure size 432x288 with 1 Axes>"
      ]
     },
     "metadata": {
      "needs_background": "light"
     },
     "output_type": "display_data"
    }
   ],
   "source": [
    "coronal = data[:, 59, :]\n",
    "\n",
    "reoriented = coronal.T[::-1, :]\n",
    "\n",
    "plt.imshow(reoriented);"
   ]
  },
  {
   "cell_type": "markdown",
   "metadata": {},
   "source": [
    "Notice that we actually stacked two operations here: first we transposed the coronal slice (`coronal.T`), and then we reindexed its first axis.\n",
    "\n",
    "**Exercise**: if you're not sure what the  `::-1` slicing syntax above is doing, see if you can figure it out by experimenting with the above code. Try leaving out the transposition and/or the re-indexing steps and seeing what happens to the image. *Bonus*: rewrite the expression so that an indexing step happens *before* the transposition step, but still produces the correct image orientation."
   ]
  },
  {
   "cell_type": "markdown",
   "metadata": {},
   "source": [
    "#### Stacking and splitting arrays\n",
    "Sometimes we want to *concatenate*, or *stack*, multiple arrays into a single one. Numpy provides a `concatenate()` function that allows us to accomplish this efficiently. It takes a sequence of arrays as input, and concatenates them along the desired axis:"
   ]
  },
  {
   "cell_type": "code",
   "execution_count": 36,
   "metadata": {},
   "outputs": [
    {
     "data": {
      "text/plain": [
       "(20, 2)"
      ]
     },
     "execution_count": 36,
     "metadata": {},
     "output_type": "execute_result"
    }
   ],
   "source": [
    "x = np.ones((10, 2))\n",
    "y = np.ones((10, 2)) * 2\n",
    "\n",
    "xy = np.concatenate([x, y], axis=0)\n",
    "\n",
    "xy.shape"
   ]
  },
  {
   "cell_type": "markdown",
   "metadata": {},
   "source": [
    "Above we concatenated two axes of shape `(10, 2)` along the first axis (i.e., `axis=0`). We could also concatenate along the second axis:"
   ]
  },
  {
   "cell_type": "code",
   "execution_count": 37,
   "metadata": {},
   "outputs": [
    {
     "data": {
      "text/plain": [
       "(10, 4)"
      ]
     },
     "execution_count": 37,
     "metadata": {},
     "output_type": "execute_result"
    }
   ],
   "source": [
    "xy = np.concatenate([x , y], axis=1)\n",
    "\n",
    "xy.shape"
   ]
  },
  {
   "cell_type": "markdown",
   "metadata": {},
   "source": [
    "For convenience, numpy also provides `vstack()` and `hstack()` functions, which are just wrappers around `concatenate()` that take care of the axis argument for you (as long as you only need to concatenate along one of the first two axes). I.e., `vstack()` (for \"vertical stack\") is equivalent to calling `concenate()` with `axis=0`, and `hstack()` (for \"horizontal stack\") is equivalent to calling it with `axis=1`. (As an **exercise**, you can try replacing the `concatenate()` calls above with the stacking functions to produce the same result.)\n",
    "\n",
    "\n",
    "Just as we can stack multiple arrays into one, we can also split a single array into multiple parts. Numpy provides `split()`, `vsplit()`, and `hsplit()`, which do basically the opposite of `concatenate()`, `vstack()`, and `hstack()`, respectively."
   ]
  },
  {
   "cell_type": "code",
   "execution_count": 38,
   "metadata": {},
   "outputs": [
    {
     "data": {
      "text/plain": [
       "[array([1, 2, 5]), array([9, 3, 1, 4]), array([5, 2, 9, 4])]"
      ]
     },
     "execution_count": 38,
     "metadata": {},
     "output_type": "execute_result"
    }
   ],
   "source": [
    "x = np.array([1, 2, 5, 9, 3, 1, 4, 5, 2, 9, 4])\n",
    "\n",
    "np.split(x, [3, 7], axis=0)"
   ]
  },
  {
   "cell_type": "markdown",
   "metadata": {},
   "source": [
    "Note that `split()` takes one more argument than `concatenate()`, because we need to specify the split points along the arget axis. Above, we specify that we want to split the array at the indices `3` and `7`."
   ]
  },
  {
   "cell_type": "markdown",
   "metadata": {},
   "source": [
    "### Array arithmetic\n",
    "The main purpose of the array data structure is to support numerical operations, so let's look at some of those. We'll start with simple arithmetic: addition, subtraction, etc. In numpy, all arithmetic operations are applied to arrays in an *element-wise* fashion. By element-wise, we mean that the operation is applied identically to every element in the array. For example:"
   ]
  },
  {
   "cell_type": "code",
   "execution_count": 39,
   "metadata": {},
   "outputs": [
    {
     "data": {
      "text/plain": [
       "array([ 2, 12,  8,  4])"
      ]
     },
     "execution_count": 39,
     "metadata": {},
     "output_type": "execute_result"
    }
   ],
   "source": [
    "x = np.array([1, 6, 4, 2])\n",
    "\n",
    "y = x * 2\n",
    "\n",
    "y"
   ]
  },
  {
   "cell_type": "markdown",
   "metadata": {},
   "source": [
    "Each element in `y` is double the value at the corresponding position in `x`.\n",
    "\n",
    "The multiplication operation should look familiar, as it uses the standard Python operator `*`. The same goes for the other operators natively available in Python: addition (`+`), subtraction (`-`), division (`/`), power (`**`), modulo (`%`), and floor (or integer) division (`//`). Some more examples:"
   ]
  },
  {
   "cell_type": "code",
   "execution_count": 40,
   "metadata": {},
   "outputs": [
    {
     "name": "stdout",
     "output_type": "stream",
     "text": [
      "x: [0 1 2 3 4 5 6 7 8 9]\n",
      "\n",
      "Add 10 to x: [10 11 12 13 14 15 16 17 18 19]\n",
      "Divide x by 2: [0.  0.5 1.  1.5 2.  2.5 3.  3.5 4.  4.5]\n",
      "x modulo 2: [0 1 0 1 0 1 0 1 0 1]\n",
      "x raised to the power of 3: [  0   1   8  27  64 125 216 343 512 729]\n"
     ]
    }
   ],
   "source": [
    "# np.arange() builds an array with sequentially increasing values\n",
    "x = np.arange(10)\n",
    "print(\"x:\", x)\n",
    "\n",
    "print(\"\\nAdd 10 to x:\", x + 10)\n",
    "print(\"Divide x by 2:\", x / 2)\n",
    "print(\"x modulo 2:\", x % 2)\n",
    "print(\"x raised to the power of 3:\", x ** 3)"
   ]
  },
  {
   "cell_type": "markdown",
   "metadata": {},
   "source": [
    "For all of these operations, so long as the two operands are an array and a single number, the output of the operation will always be a new array with the same dimensions as the input array.\n",
    "\n",
    "What about arithmetic operations where the other operand *isn't* a number? Can we, for example, subtract one array from another? Yes! We just have to make sure to that the two arrays have the same shape:"
   ]
  },
  {
   "cell_type": "code",
   "execution_count": 41,
   "metadata": {},
   "outputs": [
    {
     "data": {
      "text/plain": [
       "array([ 8,  2, -2,  1])"
      ]
     },
     "execution_count": 41,
     "metadata": {},
     "output_type": "execute_result"
    }
   ],
   "source": [
    "a = np.array([10, 5, 2, 8])\n",
    "b = np.array([2, 3, 4, 7])\n",
    "\n",
    "a - b"
   ]
  },
  {
   "cell_type": "markdown",
   "metadata": {},
   "source": [
    "The above subtraction still proceeds element-wise: the first element in `b` is subtracted from the first element in `a`; the second element in `b` is subtracted from the second in `a`; and so on.\n",
    "\n",
    "#### In-place operations\n",
    "When we perform an arithmetic operation like the ones above, numpy will create and return an entirely new array. But sometimes we want to modify an existing array, without creating any new variables. In such cases, we can append the `=` operator to the arithmetic operator to indicate that we want the result to be stored in the same array we used as input. This is known as *in-place* modification:"
   ]
  },
  {
   "cell_type": "code",
   "execution_count": 42,
   "metadata": {},
   "outputs": [
    {
     "data": {
      "text/plain": [
       "array([ 2, 12,  8,  4])"
      ]
     },
     "execution_count": 42,
     "metadata": {},
     "output_type": "execute_result"
    }
   ],
   "source": [
    "x = np.array([1, 6, 4, 2])\n",
    "\n",
    "# Shorthand for x = x * 2\n",
    "x *= 2\n",
    "\n",
    "x"
   ]
  },
  {
   "cell_type": "markdown",
   "metadata": {},
   "source": [
    "### Mathematical functions\n",
    "Once we've imported numpy into our namespace, we have easy access to dozens of mathematical functions we can use to transform arrays in various ways. Many of these operate element-wise on an array. For example, we can use `np.abs()` to get the the absolute value of each element:"
   ]
  },
  {
   "cell_type": "code",
   "execution_count": 43,
   "metadata": {},
   "outputs": [
    {
     "data": {
      "text/plain": [
       "array([ 1. ,  5. , 48. ,  7. , 12. ,  6. ,  4. ,  1.8,  9. ])"
      ]
     },
     "execution_count": 43,
     "metadata": {},
     "output_type": "execute_result"
    }
   ],
   "source": [
    "y = np.array([1, 5, 48, -7, 12, 6, -4, 1.8, 9])\n",
    "\n",
    "# Take the absolute value of each element\n",
    "np.abs(y)"
   ]
  },
  {
   "cell_type": "markdown",
   "metadata": {},
   "source": [
    "And similarly, `np.log()` gives us the natural log of each element:"
   ]
  },
  {
   "cell_type": "code",
   "execution_count": 44,
   "metadata": {},
   "outputs": [
    {
     "data": {
      "text/plain": [
       "array([1.38629436, 1.60943791, 0.        , 4.60517019, 4.31748811])"
      ]
     },
     "execution_count": 44,
     "metadata": {},
     "output_type": "execute_result"
    }
   ],
   "source": [
    "y = [4, 5, 1, 100, 75]\n",
    "\n",
    "# Natural log of each element\n",
    "np.log(y)"
   ]
  },
  {
   "cell_type": "markdown",
   "metadata": {},
   "source": [
    "There's also support for the full complement of trigonometric functions (`sin()`, `tan()`, `cosh()`, etc.):"
   ]
  },
  {
   "cell_type": "code",
   "execution_count": 45,
   "metadata": {},
   "outputs": [
    {
     "data": {
      "text/plain": [
       "array([ 0.15425145, -0.44807362,  0.7421542 , -0.71798508])"
      ]
     },
     "execution_count": 45,
     "metadata": {},
     "output_type": "execute_result"
    }
   ],
   "source": [
    "y = [30, 90, 51, 216]\n",
    "np.cos(y)"
   ]
  },
  {
   "cell_type": "markdown",
   "metadata": {},
   "source": [
    "### Aggregation/summarization\n",
    "Another set of functions help us summarize or aggregate arrays in various ways. These are mostly *unary* functions, meaning that they take a single array as an argument.\n",
    "\n",
    "For example, `sum()` produces the sum of the elements:"
   ]
  },
  {
   "cell_type": "code",
   "execution_count": 46,
   "metadata": {},
   "outputs": [
    {
     "data": {
      "text/plain": [
       "7"
      ]
     },
     "execution_count": 46,
     "metadata": {},
     "output_type": "execute_result"
    }
   ],
   "source": [
    "x = np.array([-10, 20, 0, -3])\n",
    "\n",
    "np.sum(x)"
   ]
  },
  {
   "cell_type": "markdown",
   "metadata": {},
   "source": [
    "And similarly, we could get the maximum, minimum, mean, median, variance, etc.:"
   ]
  },
  {
   "cell_type": "code",
   "execution_count": 47,
   "metadata": {},
   "outputs": [
    {
     "name": "stdout",
     "output_type": "stream",
     "text": [
      "Max of y: 48.0\n",
      "Min of y: -7.0\n",
      "Mean of y: 7.977777777777778\n",
      "Median of y: 5.0\n",
      "Variance of y: 231.8261728395062\n"
     ]
    }
   ],
   "source": [
    "y = np.array([1, 5, 48, -7, 12, 6, -4, 1.8, 9])\n",
    "\n",
    "print(\"Max of y:\", np.max(y))\n",
    "print(\"Min of y:\", np.min(y))\n",
    "print(\"Mean of y:\", np.mean(y))\n",
    "print(\"Median of y:\", np.median(y))\n",
    "print(\"Variance of y:\", np.var(y))"
   ]
  },
  {
   "cell_type": "markdown",
   "metadata": {},
   "source": [
    "#### Applying functions along an axis\n",
    "Many functions in numpy take an `axis` argument (you've already seen this for, e.g., `concatenate()`). This argument indicates which axis the function should be applied along. All of the above summarization functions, for example, accept an `axis` argument, which allows us to take, e.g., the mean or sum along a specific axis:"
   ]
  },
  {
   "cell_type": "code",
   "execution_count": 48,
   "metadata": {},
   "outputs": [
    {
     "name": "stdout",
     "output_type": "stream",
     "text": [
      "Means over the first axis (i.e., mean of each column): [47.5 48.5 49.5 50.5 51.5]\n",
      "Means over the second axis (i.e., mean of each row): [ 2.  7. 12. 17. 22. 27. 32. 37. 42. 47. 52. 57. 62. 67. 72. 77. 82. 87.\n",
      " 92. 97.]\n"
     ]
    }
   ],
   "source": [
    "x = np.arange(100)\n",
    "x = np.reshape(x, (20, 5))\n",
    "\n",
    "print(\"Means over the first axis (i.e., mean of each column):\", np.mean(x, axis=0))\n",
    "print(\"Means over the second axis (i.e., mean of each row):\", np.mean(x, axis=1))"
   ]
  },
  {
   "cell_type": "markdown",
   "metadata": {},
   "source": [
    "Notice that the two outputs have different shapes. The input array had shape `(20, 5)`, so depending on which axis we take the mean along, we end up with a 1-d array with either 20 or 5 elements."
   ]
  },
  {
   "cell_type": "markdown",
   "metadata": {},
   "source": [
    "### Linear algebra\n",
    "Numpy provides access to fast linear algebra routines in either the root namespace or the `linalg` module. Some examples:"
   ]
  },
  {
   "cell_type": "code",
   "execution_count": 49,
   "metadata": {},
   "outputs": [
    {
     "data": {
      "text/plain": [
       "array([[1., 0., 0., 0.],\n",
       "       [0., 1., 0., 0.],\n",
       "       [0., 0., 1., 0.],\n",
       "       [0., 0., 0., 1.]])"
      ]
     },
     "execution_count": 49,
     "metadata": {},
     "output_type": "execute_result"
    }
   ],
   "source": [
    "# Identity matrix\n",
    "np.eye(4)"
   ]
  },
  {
   "cell_type": "code",
   "execution_count": 50,
   "metadata": {},
   "outputs": [
    {
     "data": {
      "text/plain": [
       "array([[-0.06411868,  0.01232084, -0.02615036, -0.06939904],\n",
       "       [ 0.09705808,  0.0088006 ,  0.26703545,  0.0932864 ],\n",
       "       [-0.06688459, -0.07342218, -0.31355293, -0.17827508],\n",
       "       [-0.06336434,  0.03570531, -0.4023133 , -0.22152376]])"
      ]
     },
     "execution_count": 50,
     "metadata": {},
     "output_type": "execute_result"
    }
   ],
   "source": [
    "x = np.random.randint(-10, 10, size=(4, 4))\n",
    "\n",
    "# Invert a matrix\n",
    "np.linalg.inv(x)"
   ]
  },
  {
   "cell_type": "code",
   "execution_count": 51,
   "metadata": {},
   "outputs": [
    {
     "data": {
      "text/plain": [
       "array([[105,  77],\n",
       "       [134, 108]])"
      ]
     },
     "execution_count": 51,
     "metadata": {},
     "output_type": "execute_result"
    }
   ],
   "source": [
    "x = np.random.randint(0, 10, size=(2, 5))\n",
    "y = np.random.randint(0, 10, size=(5, 2))\n",
    "\n",
    "# Dot product\n",
    "x.dot(y)"
   ]
  },
  {
   "cell_type": "markdown",
   "metadata": {},
   "source": [
    "## Where to next?\n",
    "The material covered above should be sufficient to get you started working with numpy, but we're really only scratching the surface. But for a much more thorough introduction to numpy, we recommend working through the [numpy chapter](https://jakevdp.github.io/PythonDataScienceHandbook/02.00-introduction-to-numpy.html) of Jake Vanderplas's exceptional [Python Data Science Handbook](https://jakevdp.github.io/PythonDataScienceHandbook/index.html), available free online.\n",
    "\n",
    "### Pandas\n",
    "Numpy is the core numerical library in Python, and many other widely used scientific computing libraries build directly on its array structures. One of the most popular such libraries is [pandas](https://pandas.pydata.org/), a data analysis library that supplements numpy's array structures with data-oriented structures like data frames, as well as extensive functionality for performing common data processing and analysis operations on tabular data.\n",
    "\n",
    "We don't have enough time in the schedule to cover pandas, but we strongly recommend working through a tutorial or two online. Here, again, it's hard to do better than the [pandas chapter](https://jakevdp.github.io/PythonDataScienceHandbook/03.00-introduction-to-pandas.html) in Jake Vanderplas's book.\n",
    "\n",
    "Just to give you a sense of what's possible in pandas, here's a series of examples illustrating just a sliver of the functionality the library provides:"
   ]
  },
  {
   "cell_type": "code",
   "execution_count": null,
   "metadata": {},
   "outputs": [],
   "source": [
    "import pandas as pd\n",
    "\n",
    "# read_csv() is a workhorse text-reading function that can handle almost\n",
    "# any kind of tabular plain-text representation of data. Pandas also has\n",
    "# a range of utilities for reading from other formats, e.g., read_excel(),\n",
    "# read_sas(), etc.\n",
    "data = pd.read_csv('data/abide2.tsv', sep='\\t')"
   ]
  },
  {
   "cell_type": "code",
   "execution_count": null,
   "metadata": {},
   "outputs": [],
   "source": [
    "# Inspect the first 5 rows of the file\n",
    "data.head(5)"
   ]
  },
  {
   "cell_type": "code",
   "execution_count": null,
   "metadata": {},
   "outputs": [],
   "source": [
    "# Summarize the properties of the first 6 rows in the dataset\n",
    "data.iloc[:, :6].describe()"
   ]
  },
  {
   "cell_type": "code",
   "execution_count": null,
   "metadata": {
    "scrolled": true
   },
   "outputs": [],
   "source": [
    "# Select a column by name\n",
    "data['age']"
   ]
  },
  {
   "cell_type": "code",
   "execution_count": null,
   "metadata": {
    "scrolled": true
   },
   "outputs": [],
   "source": [
    "# Select values at specific rows and columns\n",
    "data.loc[[2, 5], ['age', 'sex']]"
   ]
  },
  {
   "cell_type": "code",
   "execution_count": null,
   "metadata": {},
   "outputs": [],
   "source": [
    "# Sort data on columns: group first, then age\n",
    "sorted_data = data.sort_values(['group', 'age'])\n",
    "\n",
    "sorted_data.head(5)"
   ]
  },
  {
   "cell_type": "code",
   "execution_count": null,
   "metadata": {},
   "outputs": [],
   "source": [
    "# Mean values of first five columns whose names start with 'fsArea'\n",
    "data.filter(like='fsArea').iloc[:, :5].mean()"
   ]
  },
  {
   "cell_type": "code",
   "execution_count": null,
   "metadata": {},
   "outputs": [],
   "source": [
    "# Variance of the 'fsCT_R_TGv_ROI' column, grouped separately by\n",
    "# every combination of sex and group in the dataset\n",
    "groups = data.groupby(['sex', 'group'])\n",
    "\n",
    "groups['fsCT_R_TGv_ROI'].var()"
   ]
  },
  {
   "cell_type": "markdown",
   "metadata": {
    "slideshow": {
     "slide_type": "slide"
    }
   },
   "source": [
    "# Resources/further reading\n",
    "This tutorial provided a high-level look at some of the main features of the Python language—some basic, some more advanced. To really develop a working familiarity with the language, you will, of course need to roll up your sleeves and start writing some code. One of the best ways to learn is to pick a small problem that actually interests or matters to you in some way (e.g., parsing some text data you have lying around), and google for help every time you run into problems (there's no shame in consulting the internet! All programmers do it!).\n",
    "\n",
    "If you prefer to have more structure, there are hundreds of excellent, and mostly free, resources online to help you on your way. A few good ones:\n",
    "\n",
    "* CodeAcademy offers interactive programming courses for many languages and tools, including [Python](https://www.codecademy.com/learn/learn-python). (The Python 3 course costs money, but the Python 2 course is free, and the changes to the language aren't huge.)\n",
    "* [A Whirlwind Tour of Python](http://www.oreilly.com/programming/free/files/a-whirlwind-tour-of-python.pdf) is an excellent intro to Python by [Jake VanderPlas](https://staff.washington.edu/jakevdp/); Jupyter notebooks are available [here](https://github.com/jakevdp/WhirlwindTourOfPython)\n",
    "* Another excellent and free online book is Allen Downey's [\"Think Python\"](http://greenteapress.com/wp/think-python-2e/)"
   ]
  }
 ],
 "metadata": {
  "kernelspec": {
   "display_name": "brainhack",
   "language": "python",
   "name": "brainhack"
  },
  "language_info": {
   "codemirror_mode": {
    "name": "ipython",
    "version": 3
   },
   "file_extension": ".py",
   "mimetype": "text/x-python",
   "name": "python",
   "nbconvert_exporter": "python",
   "pygments_lexer": "ipython3",
   "version": "3.7.8"
  }
 },
 "nbformat": 4,
 "nbformat_minor": 4
}
