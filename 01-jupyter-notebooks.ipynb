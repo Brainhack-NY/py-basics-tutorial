{
 "cells": [
  {
   "cell_type": "markdown",
   "metadata": {},
   "source": [
    "# Overview of Jupyter notebooks\n",
    "---\n",
    "## What is a Jupyter notebook?\n",
    "From [Project Jupyter's](https://jupyter.org/) website:\n",
    ">The Jupyter Notebook is an open-source web application that allows you to create and share documents that contain live code, equations, visualizations and narrative text. Uses include: data cleaning and transformation, numerical simulation, statistical modeling, data visualization, machine learning, and much more.\n",
    "\n",
    "This means you don't necessarily need to save Python files (.py) and run them through the command line!\n",
    "\n",
    "The name \"Jupyter\" is a combination of Julia, Python, and R. While Python is the most common language used in Jupyter notebooks, the Jupyter kernels has evolved into supporting [many different languages](https://github.com/jupyter/jupyter/wiki/Jupyter-kernels).\n",
    "\n",
    "## Notebook structure\n",
    "\n",
    "### Cells\n",
    "Cells are building blocks of a notebook, they can be created, deleted, moved around, and executed. There are several different types of cells in Jupyter notebooks, but the primary ones are code and markdown cells.\n",
    "\n",
    "### Markdown cells\n",
    "\n",
    "Markdown cells contain [Markdown], which is a lightweight markup language that allows us to style plain text by rendering it wiht headings, lists, etc. \n",
    "\n",
    "The cell you're reading rightn ow is a Markdown cell, if you are reading this as a rendered notebook on the web, it'll just look like any other webpage, and you won't be able to interact with the cel contents. But if you're running thie notebook on a local Jupyter environment, you can edit the cell directly. All you have to do is double click on the cell, or click to highlight it and press the Enter/Return key. then you can edit the Markdown as you please, and once you run the cell (more on that in a moment), your changes will be rendered.\n",
    "\n",
    "### Code cells\n",
    "Code cells contain code, and the code written can vary depending on what kernel you're running. Here's what a Python code cell looks like: "
   ]
  },
  {
   "cell_type": "code",
   "execution_count": 1,
   "metadata": {},
   "outputs": [
    {
     "name": "stdout",
     "output_type": "stream",
     "text": [
      "Hello world!\n"
     ]
    }
   ],
   "source": [
    "def welcome():\n",
    "    print(\"Hello world!\")\n",
    "    \n",
    "welcome()"
   ]
  },
  {
   "cell_type": "markdown",
   "metadata": {},
   "source": [
    "#### In-line rendering\n",
    "When code cells generate images, Jupyter allows you to render those images in-line (as long as the kernel you're using supports it). For example, here's some Python code that generates a histogram. Note the special `%matplotlib inline` command at the top; this is an instruction to Jupyter indicating that plots should be rendered inline (i.e., just below the cell), rather than handing the generated plot off to the operating system."
   ]
  },
  {
   "cell_type": "code",
   "execution_count": 2,
   "metadata": {},
   "outputs": [
    {
     "data": {
      "image/png": "[encoded data removed]",
      "text/plain": [
       "<Figure size 432x288 with 1 Axes>"
      ]
     },
     "metadata": {
      "needs_background": "light"
     },
     "output_type": "display_data"
    }
   ],
   "source": [
    "%matplotlib inline # only needs to be called once per notebook\n",
    "\n",
    "import numpy as np\n",
    "import matplotlib.pyplot as plt\n",
    "\n",
    "data = np.random.normal(5, 2, size=10000)\n",
    "plt.hist(data, bins=100)\n",
    "plt.xlim(-10, 20);"
   ]
  },
  {
   "cell_type": "markdown",
   "metadata": {},
   "source": [
    "#### Executing code cells\n",
    "Just as with Markdown cells, you can double-click on a code cell to edit it. When you run the cell, the code in the cell gets executed, just as it would if you were working in a command-line environment and pasted in the code from the cell. You can try running the code cell above: click on it to highlight it, then click the \"Run\" button in the toolbar at the top of the notebook, or select \"Run Cells\" from the Cell menu, or use the keyboard shortcut Ctrl-Return. You should see some output show up immediately below the cell."
   ]
  },
  {
   "cell_type": "markdown",
   "metadata": {},
   "source": [
    "## Interacting with notebooks\n",
    "\n",
    "### Modes\n",
    "When working in a Jupyter notebook, there are two modes of interaction: *edit mode* and *command mode*.\n",
    "\n",
    "#### Edit mode\n",
    "When we're in edit mode, we're interacting with, or editing, the contents of an individual cell. We can tell we're in edit mode if the cell border is green. To enter edit mode, we either click on some text or code in a cell that's already in edit mode, or highlight a cell that isn't in edit mode (e.g., a markdown cell that's been rendered) and press Enter. To exit edit mode, press the Esc key, click outside of any cell (e.g., on the edges of the notebook), or run the cell.\n",
    "\n",
    "#### Command mode\n",
    "In command mode, we can perform operations on one or more cells, but we can't alter the contents of any individual cell. We use command mode to create or delete cells; move them around; cut, copy, and paste them; execute them; and so on. To enter command mode, press the Esc key.\n",
    "\n",
    "### Navigating notebooks\n",
    "Notebooks are fairly simple to use, and it doesn't take long to get the hang of it. The best way to understand how mouse navigation works is to just click around on various things and see what happens. Many of the commands in the menus are also fairly self-explanatory. The toolbar contains icons for some of the most common operations—e.g., saving the current notebook, creating a new notebook, moving cells up or down, and so on. You can hover over any of the icons for a few seconds to bring up tooltips that tell you what the button does.\n",
    "\n",
    "#### Keyboard navigation\n",
    "Once you get comfortable in the Jupyter environment, you'll probably find yourself relying heavily on keyboard shortcuts. Jupyter provides a lot of shortcuts out of the box, and can be further customized via third-party plugins. The main thing to be aware of is that the effects of different keys depend on what mode you're in: edit or command.\n",
    "\n",
    "The easiest way to learn the shortcuts is to consult the help. You can either select \"Keyboard Shortcuts\" from the help, or, if you're in command mode, press the \"h\" key to bring up the same display.\n",
    "\n",
    "## Extending Jupyter\n",
    "\n",
    "\n",
    "While the Jupyter notebook isn't (at least right now) really much of an [IDE](https://en.wikipedia.org/wiki/Integrated_development_environment), it does provide basic editing functionality like syntax highlighting, various keyboard shortcuts, etc. Importantly, many aspects of the Jupyter notebook environment can be extended and customized, and a large number of third-party plug-ins and extensions have been developed. We won't cover extensions in any detail here, but you can read the [official docs](https://jupyter-notebook.readthedocs.io/en/stable/extending/) for more information on how to extend Jupyter, or browse [this list](https://jupyter-contrib-nbextensions.readthedocs.io/en/latest/) or [this other one](https://github.com/mauhai/awesome-jupyterlab) of available extensions.\n",
    "\n",
    "To illustrate the power that extensions give us, let's look at just one particular extension: [ipywidgets](http://ipywidgets.readthedocs.io/en/latest/index.html), which enable us to turn static plots into interactive ones by binding interactive elements to function parameters in just a few lines of code. For example:"
   ]
  },
  {
   "cell_type": "code",
   "execution_count": 3,
   "metadata": {},
   "outputs": [
    {
     "data": {
      "application/vnd.jupyter.widget-view+json": {
       "model_id": "9f6b844ae74042bc9a6980e49b85d2c7",
       "version_major": 2,
       "version_minor": 0
      },
      "text/plain": [
       "interactive(children=(IntSlider(value=5, description='mu', max=15, min=-5), IntSlider(value=3, description='sd…"
      ]
     },
     "metadata": {},
     "output_type": "display_data"
    }
   ],
   "source": [
    "# Interactive widgets!\n",
    "from ipywidgets import interact\n",
    "import ipywidgets as widgets\n",
    "\n",
    "# Define our plotting function\n",
    "def plot_normal_hist(mu, sd):\n",
    "    samp = np.random.normal(mu, sd, size=10000)\n",
    "    plt.hist(samp, bins=100)\n",
    "    plt.xlim(-20, 20)\n",
    "\n",
    "# Hook up our plotting function to the interactive widget\n",
    "interact(plot_normal_hist, mu=5, sd=widgets.IntSlider(min=1, max=8, step=1, value=3));"
   ]
  },
  {
   "cell_type": "markdown",
   "metadata": {},
   "source": [
    "## Other features\n",
    "Jupyter notebooks have too many useful features to cover in a short introduction, so let's just mention a few."
   ]
  },
  {
   "cell_type": "markdown",
   "metadata": {
    "slideshow": {
     "slide_type": "subslide"
    }
   },
   "source": [
    "### Built-in LaTeX support\n",
    "We can drop LaTeX expressions directly into Markdown cells and they'll be rendered in-line seamlessly:\n",
    "\n",
    "$$ F(k) = \\int_{-\\infty}^{\\infty} f(x) e^{2\\pi i k} dx $$"
   ]
  },
  {
   "cell_type": "markdown",
   "metadata": {
    "slideshow": {
     "slide_type": "subslide"
    }
   },
   "source": [
    "### Magic commands\n",
    "Jupyter notebooks support a number of [\"magic\" commands](http://ipython.readthedocs.io/en/stable/interactive/magics.html) that can make our life easier. We already saw one magic command above (to direct Jupyter to render plots in-line). Other magics provide functionality to help us profile or debug code; run cells written in other languages; dynamically load extensions; reset the workspace; and accomplish many other tasks.\n",
    "\n",
    "### Easy exports\n",
    "Jupyter notebooks can be easily exported to a number of other formats (HTML, PDF, .py, etc.) via the \"Download as\" option under the File Menu.\n",
    "\n",
    "### Execute system commands\n",
    "You can run system commands directly from a notebook by prefixing any line in a code cell with '!'. For example, executing the following command will list the `ipynb` files in the current directory:"
   ]
  },
  {
   "cell_type": "code",
   "execution_count": 4,
   "metadata": {},
   "outputs": [
    {
     "name": "stdout",
     "output_type": "stream",
     "text": [
      "-rw-r--r--  1 xxie  staff  21738 Dec  9 15:28 01-jupyter-notebooks.ipynb\n",
      "-rw-r--r--  1 xxie  staff  64689 Dec  9 14:23 02-python-basics.ipynb\n"
     ]
    }
   ],
   "source": [
    "!ls -l *.ipynb"
   ]
  },
  {
   "cell_type": "markdown",
   "metadata": {},
   "source": [
    "### Custom themes\n",
    "One of the most popular extensions for Jupyter is [jupyterthemes](https://github.com/dunovank/jupyter-themes), which allows you to easily apply new themes to your notebooks, potentially changing almost every aspect of their appearance. The extension also provides command-line hooks that make it easier to customize specific aspects (e.g., increasing font size in cell mode)."
   ]
  },
  {
   "cell_type": "markdown",
   "metadata": {},
   "source": [
    "## JupyterLab\n",
    "Jupyter Notebook is an environment for writing and editing interactive notebooks. But its emphasis is very heavily on crafting individual notebooks. There's very ittle support for other important tasks users regularly engage in—e.g., managing multiple notebooks; organizing files; inspecting the contents of variables; and so on. Put simply, outside of the actual document construction process, Jupyter Notebook leaves much to be desired.\n",
    "\n",
    "Fortunately, the Jupyter Project recently launched [JupyterLab](https://jupyterlab.readthedocs.io/en/stable/), which provides a much more full-featured user interface. Eventually, JupyterLab will completely replace Jupyter Notebook. For the moment, you can still use the latter in a standalone manner, but there's not really much reason to, seeing as you get all of the benefits of Jupyter Notebook in JupyterLab, plus many more."
   ]
  },
  {
   "cell_type": "markdown",
   "metadata": {
    "slideshow": {
     "slide_type": "subslide"
    }
   },
   "source": [
    "## When to use Jupyter and when not to use Jupyter\n",
    "The ability to seamlessly combine text, code, and figures in one document—potentially creating completely reproducible, shareable workflows—has led to widespread adoption of Jupyter notebooks (and other similar technologies) in recent years. Some particular common use cases:\n",
    "* Presentation of information in a form that allows readers to easily interact and experiment with contents. Notebooks are exceptional teaching tools, as students can directly interact with code and immediately observe the results.\n",
    "* Consolidated presentation of research results/reports, where code and figures can be presented in-line—essentially providing a better version of the scientific research paper.\n",
    "* Rapid prototyping of plotting-intensive analysis workflows.\n",
    "\n",
    "Naturally, Jupyter notebooks aren't the right tool for everything. Their massive popularity has spawned something of a backlash in recent years (see, e.g., [these slides](https://docs.google.com/presentation/d/1n2RlMdmv1p25Xy5thJUhkKGvjtV-dkAIsUXP-AL4ffI/edit?usp=sharing) or this [post](https://towardsdatascience.com/5-reasons-why-jupyter-notebooks-suck-4dc201e27086)). Many of these criticisms are accurate, though they're probably better understood as criticisms of how people sometimes *use* notebooks, than about intrinsic limitations of the technology itself. In particular, it's important to note that notebooks are no substitute for a good integrated development environment (IDE), and overreliance on them can promote poor development practices and introduce serious version control difficulties. In general, we don't recommend using notebooks for serious software development. But for the use cases described above, they can be invaluable."
   ]
  },
  {
   "cell_type": "markdown",
   "metadata": {
    "slideshow": {
     "slide_type": "subslide"
    }
   },
   "source": [
    "## Getting help\n",
    "This tutorial only introduces some of the basics, but there are plenty of sources for additional information and help. Try exploring the options under the \"Help\" menu.\n",
    "\n",
    "As mentioned earlier, if you're in command mode, you can press the 'h' key to bring up a list of keyboard shorcuts.\n",
    "\n",
    "If you're writing Python code, pressing shift-tab inside the parentheses of Python function calls will show you the function signature/arguments. You can also prefix any Python function with '?' to bring up its documentation."
   ]
  }
 ],
 "metadata": {
  "kernelspec": {
   "display_name": "brainhack",
   "language": "python",
   "name": "brainhack"
  },
  "language_info": {
   "codemirror_mode": {
    "name": "ipython",
    "version": 3
   },
   "file_extension": ".py",
   "mimetype": "text/x-python",
   "name": "python",
   "nbconvert_exporter": "python",
   "pygments_lexer": "ipython3",
   "version": "3.7.8"
  }
 },
 "nbformat": 4,
 "nbformat_minor": 4
}
